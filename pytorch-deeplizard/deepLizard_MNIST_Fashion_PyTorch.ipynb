{
  "nbformat": 4,
  "nbformat_minor": 0,
  "metadata": {
    "colab": {
      "name": "deepLizard - MNIST Fashion PyTorch.ipynb",
      "provenance": [],
      "collapsed_sections": []
    },
    "kernelspec": {
      "name": "python3",
      "display_name": "Python 3"
    }
  },
  "cells": [
    {
      "cell_type": "code",
      "metadata": {
        "id": "QTPuAGJywMWu",
        "colab_type": "code",
        "colab": {}
      },
      "source": [
        "import torch\n",
        "import torchvision\n",
        "import torchvision.transforms as transforms"
      ],
      "execution_count": 0,
      "outputs": []
    },
    {
      "cell_type": "code",
      "metadata": {
        "id": "V1wgRHyBcUUC",
        "colab_type": "code",
        "colab": {}
      },
      "source": [
        "# class OHLC(Dataset):\n",
        "#   def __init__(self, csv_file):\n",
        "#     self.data = csv_file\n",
        "\n",
        "#   def _getitem__(self, index):\n",
        "#     r = self.data.iloc[index]\n",
        "#     label = torch.tensor(r.is_up_day, dtype = torch.long)\n",
        "#     sample = self.normalize(torch.tensor([r.open, r.high, r.low, r.close]))\n",
        "#     return sample, label\n",
        "\n",
        "#   def __len__(self):\n",
        "#     return len(self.data)"
      ],
      "execution_count": 0,
      "outputs": []
    },
    {
      "cell_type": "code",
      "metadata": {
        "id": "fSplKZq_dgb8",
        "colab_type": "code",
        "colab": {}
      },
      "source": [
        "train_set = torchvision.datasets.FashionMNIST(\n",
        "    root = './data/FashionMNIST',\n",
        "    train = True,\n",
        "    download = True,\n",
        "    transform = transforms.Compose([\n",
        "                                    transforms.ToTensor()\n",
        "    ])\n",
        ")"
      ],
      "execution_count": 0,
      "outputs": []
    },
    {
      "cell_type": "code",
      "metadata": {
        "id": "X4pKX0b4eMgS",
        "colab_type": "code",
        "colab": {}
      },
      "source": [
        "train_loader = torch.utils.data.DataLoader(train_set, batch_size=10)"
      ],
      "execution_count": 0,
      "outputs": []
    },
    {
      "cell_type": "code",
      "metadata": {
        "id": "-tYZ4Ve8hTYM",
        "colab_type": "code",
        "outputId": "14967ff5-0845-4072-fee2-c8e0bb6cfc05",
        "colab": {
          "base_uri": "https://localhost:8080/",
          "height": 35
        }
      },
      "source": [
        "import numpy as np\n",
        "import matplotlib.pyplot as plt\n",
        "\n",
        "torch.set_printoptions(linewidth=120)\n",
        "\n",
        "len(train_set)"
      ],
      "execution_count": 46,
      "outputs": [
        {
          "output_type": "execute_result",
          "data": {
            "text/plain": [
              "60000"
            ]
          },
          "metadata": {
            "tags": []
          },
          "execution_count": 46
        }
      ]
    },
    {
      "cell_type": "code",
      "metadata": {
        "id": "eyBfBrcShnV6",
        "colab_type": "code",
        "outputId": "87f46fec-e606-495f-de92-6e4ebb15f9b7",
        "colab": {
          "base_uri": "https://localhost:8080/",
          "height": 35
        }
      },
      "source": [
        "train_set.targets"
      ],
      "execution_count": 47,
      "outputs": [
        {
          "output_type": "execute_result",
          "data": {
            "text/plain": [
              "tensor([9, 0, 0,  ..., 3, 0, 5])"
            ]
          },
          "metadata": {
            "tags": []
          },
          "execution_count": 47
        }
      ]
    },
    {
      "cell_type": "code",
      "metadata": {
        "id": "3sXij4FFhqII",
        "colab_type": "code",
        "outputId": "5f718921-c764-4d1e-953f-c8b1cda3bcd6",
        "colab": {
          "base_uri": "https://localhost:8080/",
          "height": 35
        }
      },
      "source": [
        "train_set.targets.bincount()"
      ],
      "execution_count": 48,
      "outputs": [
        {
          "output_type": "execute_result",
          "data": {
            "text/plain": [
              "tensor([6000, 6000, 6000, 6000, 6000, 6000, 6000, 6000, 6000, 6000])"
            ]
          },
          "metadata": {
            "tags": []
          },
          "execution_count": 48
        }
      ]
    },
    {
      "cell_type": "code",
      "metadata": {
        "id": "fZ8J-zHZhvlh",
        "colab_type": "code",
        "outputId": "c6bb34c4-926e-4936-ac3c-0b0dc9a7e120",
        "colab": {
          "base_uri": "https://localhost:8080/",
          "height": 35
        }
      },
      "source": [
        "sample = next(iter(train_set))\n",
        "len(sample)"
      ],
      "execution_count": 49,
      "outputs": [
        {
          "output_type": "execute_result",
          "data": {
            "text/plain": [
              "2"
            ]
          },
          "metadata": {
            "tags": []
          },
          "execution_count": 49
        }
      ]
    },
    {
      "cell_type": "code",
      "metadata": {
        "id": "hlY6Nqecirra",
        "colab_type": "code",
        "colab": {}
      },
      "source": [
        "image, label = sample"
      ],
      "execution_count": 0,
      "outputs": []
    },
    {
      "cell_type": "code",
      "metadata": {
        "id": "xYInkOyQjRYc",
        "colab_type": "code",
        "outputId": "f89ab3ba-d556-4dea-bc17-c68a7ba860f6",
        "colab": {
          "base_uri": "https://localhost:8080/",
          "height": 35
        }
      },
      "source": [
        "image.shape"
      ],
      "execution_count": 51,
      "outputs": [
        {
          "output_type": "execute_result",
          "data": {
            "text/plain": [
              "torch.Size([1, 28, 28])"
            ]
          },
          "metadata": {
            "tags": []
          },
          "execution_count": 51
        }
      ]
    },
    {
      "cell_type": "code",
      "metadata": {
        "id": "5x44EmmZjTvn",
        "colab_type": "code",
        "outputId": "ba5a5343-f7b2-43b7-879f-81e859d5cb3c",
        "colab": {
          "base_uri": "https://localhost:8080/",
          "height": 35
        }
      },
      "source": [
        "label"
      ],
      "execution_count": 52,
      "outputs": [
        {
          "output_type": "execute_result",
          "data": {
            "text/plain": [
              "9"
            ]
          },
          "metadata": {
            "tags": []
          },
          "execution_count": 52
        }
      ]
    },
    {
      "cell_type": "code",
      "metadata": {
        "id": "21D2yQAsjav8",
        "colab_type": "code",
        "outputId": "19f69eec-ba73-486a-da3f-25fbc571c957",
        "colab": {
          "base_uri": "https://localhost:8080/",
          "height": 283
        }
      },
      "source": [
        "plt.imshow(image.squeeze(), cmap='gray')"
      ],
      "execution_count": 53,
      "outputs": [
        {
          "output_type": "execute_result",
          "data": {
            "text/plain": [
              "<matplotlib.image.AxesImage at 0x7f17944b6fd0>"
            ]
          },
          "metadata": {
            "tags": []
          },
          "execution_count": 53
        },
        {
          "output_type": "display_data",
          "data": {
            "image/png": "[encoded data removed]",
            "text/plain": [
              "<Figure size 432x288 with 1 Axes>"
            ]
          },
          "metadata": {
            "tags": []
          }
        }
      ]
    },
    {
      "cell_type": "code",
      "metadata": {
        "id": "U-yZbeQfjy3x",
        "colab_type": "code",
        "outputId": "b05ece23-96af-45fa-d0ed-775650f50e11",
        "colab": {
          "base_uri": "https://localhost:8080/",
          "height": 35
        }
      },
      "source": [
        "batch = next(iter(train_loader))\n",
        "len(batch[0])"
      ],
      "execution_count": 54,
      "outputs": [
        {
          "output_type": "execute_result",
          "data": {
            "text/plain": [
              "10"
            ]
          },
          "metadata": {
            "tags": []
          },
          "execution_count": 54
        }
      ]
    },
    {
      "cell_type": "code",
      "metadata": {
        "id": "36QglKY5kX7n",
        "colab_type": "code",
        "colab": {}
      },
      "source": [
        "images, labels = batch"
      ],
      "execution_count": 0,
      "outputs": []
    },
    {
      "cell_type": "code",
      "metadata": {
        "id": "XxW6AhnMkefW",
        "colab_type": "code",
        "outputId": "82c62f95-8215-4534-e1e6-34ee8b5c0c3f",
        "colab": {
          "base_uri": "https://localhost:8080/",
          "height": 35
        }
      },
      "source": [
        "images.shape"
      ],
      "execution_count": 56,
      "outputs": [
        {
          "output_type": "execute_result",
          "data": {
            "text/plain": [
              "torch.Size([10, 1, 28, 28])"
            ]
          },
          "metadata": {
            "tags": []
          },
          "execution_count": 56
        }
      ]
    },
    {
      "cell_type": "code",
      "metadata": {
        "id": "D3TehIN2kgbV",
        "colab_type": "code",
        "outputId": "9953b03c-9092-4406-d6ff-36ca516a6a55",
        "colab": {
          "base_uri": "https://localhost:8080/",
          "height": 35
        }
      },
      "source": [
        "labels.shape"
      ],
      "execution_count": 57,
      "outputs": [
        {
          "output_type": "execute_result",
          "data": {
            "text/plain": [
              "torch.Size([10])"
            ]
          },
          "metadata": {
            "tags": []
          },
          "execution_count": 57
        }
      ]
    },
    {
      "cell_type": "code",
      "metadata": {
        "id": "prBAunKwktZo",
        "colab_type": "code",
        "outputId": "f21c7373-0abd-4835-e0c3-9632a05918a0",
        "colab": {
          "base_uri": "https://localhost:8080/",
          "height": 157
        }
      },
      "source": [
        "grid = torchvision.utils.make_grid(images, nrow = 10)\n",
        "\n",
        "plt.figure(figsize=(15,15))\n",
        "plt.imshow(np.transpose(grid, (1,2,0)))\n",
        "\n",
        "print('labels : ', labels)"
      ],
      "execution_count": 58,
      "outputs": [
        {
          "output_type": "stream",
          "text": [
            "labels :  tensor([9, 0, 0, 3, 0, 2, 7, 2, 5, 5])\n"
          ],
          "name": "stdout"
        },
        {
          "output_type": "display_data",
          "data": {
            "image/png": "[encoded data removed]",
            "text/plain": [
              "<Figure size 1080x1080 with 1 Axes>"
            ]
          },
          "metadata": {
            "tags": []
          }
        }
      ]
    },
    {
      "cell_type": "code",
      "metadata": {
        "id": "cHH_3LVfqgR0",
        "colab_type": "code",
        "colab": {}
      },
      "source": [
        "import torch.nn as nn\n",
        "import torch.nn.functional as F\n",
        "import torch.optim as optim\n",
        "\n",
        "class Network(nn.Module):\n",
        "\n",
        "  def __init__(self):\n",
        "    super(Network, self).__init__()\n",
        "    self.conv1 = nn.Conv2d(in_channels=1, out_channels=6, kernel_size=5)\n",
        "    self.conv2 = nn.Conv2d(in_channels=6, out_channels=12, kernel_size=5)\n",
        "\n",
        "    self.fc1 = nn.Linear(in_features=12*4*4, out_features=120)\n",
        "    self.fc2 = nn.Linear(in_features=120, out_features=60)\n",
        "    self.out = nn.Linear(in_features=60, out_features=10)\n",
        "    \n",
        "\n",
        "  def forward(self, t):\n",
        "\n",
        "    # 1. input layer\n",
        "    t = t\n",
        "\n",
        "    # 2. hidden conv layer\n",
        "    t = self.conv1(t)\n",
        "    t = F.relu(t) # Activation function for hidden layers, non-linear activation\n",
        "    t = F.max_pool2d(t, kernel_size = 2, stride = 2)\n",
        "\n",
        "    # 3. hidden conv layer 2\n",
        "    t = self.conv2(t)\n",
        "    t = F.relu(t)\n",
        "    t = F.max_pool2d(t, kernel_size = 2, stride = 2)\n",
        "    \n",
        "    # 4. hidden linear (or dense) layer 1\n",
        "    t = t.reshape(-1, 12*4*4)\n",
        "    t = self.fc1(t)\n",
        "    t = F.relu(t)\n",
        "\n",
        "    # 5. hidden linear layer 2\n",
        "    t = self.fc2(t)\n",
        "    t = F.relu(t)\n",
        "\n",
        "    # 6. output layer\n",
        "    t = self.out(t)\n",
        "    #t = F.softmax(t, dim = 1) # For output of classification problem\n",
        "    \n",
        "    return t"
      ],
      "execution_count": 0,
      "outputs": []
    },
    {
      "cell_type": "code",
      "metadata": {
        "id": "BhdQo_veB-I2",
        "colab_type": "code",
        "colab": {}
      },
      "source": [
        "def get_num_correct(preds, labels):\n",
        "  return preds.argmax(dim = 1).eq(labels).sum().item()"
      ],
      "execution_count": 0,
      "outputs": []
    },
    {
      "cell_type": "code",
      "metadata": {
        "id": "ciHVc_DVsR3L",
        "colab_type": "code",
        "colab": {}
      },
      "source": [
        "network = Network()"
      ],
      "execution_count": 0,
      "outputs": []
    },
    {
      "cell_type": "code",
      "metadata": {
        "id": "pbAYXb9qxpb1",
        "colab_type": "code",
        "outputId": "74ea2d5d-0c39-4e45-a098-18a44bb295e8",
        "colab": {
          "base_uri": "https://localhost:8080/",
          "height": 35
        }
      },
      "source": [
        "network.out.weight.shape"
      ],
      "execution_count": 62,
      "outputs": [
        {
          "output_type": "execute_result",
          "data": {
            "text/plain": [
              "torch.Size([10, 60])"
            ]
          },
          "metadata": {
            "tags": []
          },
          "execution_count": 62
        }
      ]
    },
    {
      "cell_type": "code",
      "metadata": {
        "id": "A_0hOLnN15H-",
        "colab_type": "code",
        "outputId": "a17cc2bf-5844-4da3-e31b-052b691963ef",
        "colab": {
          "base_uri": "https://localhost:8080/",
          "height": 199
        }
      },
      "source": [
        "for param in network.parameters():\n",
        "  print(param.shape)"
      ],
      "execution_count": 63,
      "outputs": [
        {
          "output_type": "stream",
          "text": [
            "torch.Size([6, 1, 5, 5])\n",
            "torch.Size([6])\n",
            "torch.Size([12, 6, 5, 5])\n",
            "torch.Size([12])\n",
            "torch.Size([120, 192])\n",
            "torch.Size([120])\n",
            "torch.Size([60, 120])\n",
            "torch.Size([60])\n",
            "torch.Size([10, 60])\n",
            "torch.Size([10])\n"
          ],
          "name": "stdout"
        }
      ]
    },
    {
      "cell_type": "code",
      "metadata": {
        "id": "84228wf01_yi",
        "colab_type": "code",
        "outputId": "2a7b0789-95c0-4181-d1bb-d6dec3311645",
        "colab": {
          "base_uri": "https://localhost:8080/",
          "height": 199
        }
      },
      "source": [
        "for name, param in network.named_parameters():\n",
        "  print(name, '\\t - ', param.shape)"
      ],
      "execution_count": 64,
      "outputs": [
        {
          "output_type": "stream",
          "text": [
            "conv1.weight \t -  torch.Size([6, 1, 5, 5])\n",
            "conv1.bias \t -  torch.Size([6])\n",
            "conv2.weight \t -  torch.Size([12, 6, 5, 5])\n",
            "conv2.bias \t -  torch.Size([12])\n",
            "fc1.weight \t -  torch.Size([120, 192])\n",
            "fc1.bias \t -  torch.Size([120])\n",
            "fc2.weight \t -  torch.Size([60, 120])\n",
            "fc2.bias \t -  torch.Size([60])\n",
            "out.weight \t -  torch.Size([10, 60])\n",
            "out.bias \t -  torch.Size([10])\n"
          ],
          "name": "stdout"
        }
      ]
    },
    {
      "cell_type": "markdown",
      "metadata": {
        "id": "HQ46JZswCruh",
        "colab_type": "text"
      },
      "source": [
        "## Single image batch forward pass to network"
      ]
    },
    {
      "cell_type": "code",
      "metadata": {
        "id": "MLTjW8G-AArX",
        "colab_type": "code",
        "colab": {
          "base_uri": "https://localhost:8080/",
          "height": 0
        },
        "outputId": "d666a168-e763-4631-88f4-bc9d620faa29"
      },
      "source": [
        "# creating a batch of single image\n",
        "sample = next(iter(train_set))\n",
        "image, label = sample\n",
        "# unsqueeze adds a dimension\n",
        "image.unsqueeze(0).shape\n",
        "\n",
        "pred = network(image.unsqueeze(0))\n",
        "pred.argmax(dim=1)"
      ],
      "execution_count": 65,
      "outputs": [
        {
          "output_type": "execute_result",
          "data": {
            "text/plain": [
              "tensor([8])"
            ]
          },
          "metadata": {
            "tags": []
          },
          "execution_count": 65
        }
      ]
    },
    {
      "cell_type": "code",
      "metadata": {
        "id": "-xSrjQubCF-C",
        "colab_type": "code",
        "colab": {
          "base_uri": "https://localhost:8080/",
          "height": 0
        },
        "outputId": "a348b7b0-d1f0-4082-905f-ef792db587f9"
      },
      "source": [
        "F.softmax(pred, dim = 1)"
      ],
      "execution_count": 66,
      "outputs": [
        {
          "output_type": "execute_result",
          "data": {
            "text/plain": [
              "tensor([[0.0897, 0.1062, 0.1077, 0.0997, 0.1090, 0.1011, 0.0886, 0.0912, 0.1138, 0.0932]], grad_fn=<SoftmaxBackward>)"
            ]
          },
          "metadata": {
            "tags": []
          },
          "execution_count": 66
        }
      ]
    },
    {
      "cell_type": "code",
      "metadata": {
        "id": "vdYTCL5YBvnu",
        "colab_type": "code",
        "colab": {
          "base_uri": "https://localhost:8080/",
          "height": 0
        },
        "outputId": "6a3753f9-fdbc-444a-af95-b6b19433f277"
      },
      "source": [
        "label"
      ],
      "execution_count": 67,
      "outputs": [
        {
          "output_type": "execute_result",
          "data": {
            "text/plain": [
              "9"
            ]
          },
          "metadata": {
            "tags": []
          },
          "execution_count": 67
        }
      ]
    },
    {
      "cell_type": "markdown",
      "metadata": {
        "id": "ImKaE_rm3N4Y",
        "colab_type": "text"
      },
      "source": [
        "## Dataloader + Batch Size Datasets"
      ]
    },
    {
      "cell_type": "code",
      "metadata": {
        "id": "Mlz5gRVU3M-p",
        "colab_type": "code",
        "colab": {}
      },
      "source": [
        "data_loader = torch.utils.data.DataLoader(\n",
        "    train_set,\n",
        "    batch_size = 10\n",
        ")\n",
        "\n",
        "batch = next(iter(data_loader))\n",
        "\n",
        "images, labels = batch"
      ],
      "execution_count": 0,
      "outputs": []
    },
    {
      "cell_type": "code",
      "metadata": {
        "id": "wWcRAcN63pTp",
        "colab_type": "code",
        "colab": {
          "base_uri": "https://localhost:8080/",
          "height": 199
        },
        "outputId": "b8cc3234-4658-46bd-b1f3-a5a10ac85684"
      },
      "source": [
        "preds = network(images)\n",
        "F.softmax(preds, dim = 1)"
      ],
      "execution_count": 69,
      "outputs": [
        {
          "output_type": "execute_result",
          "data": {
            "text/plain": [
              "tensor([[0.0897, 0.1062, 0.1077, 0.0997, 0.1090, 0.1011, 0.0886, 0.0912, 0.1138, 0.0932],\n",
              "        [0.0900, 0.1065, 0.1073, 0.0999, 0.1082, 0.1011, 0.0895, 0.0908, 0.1138, 0.0928],\n",
              "        [0.0898, 0.1054, 0.1084, 0.1002, 0.1089, 0.1007, 0.0892, 0.0910, 0.1132, 0.0932],\n",
              "        [0.0896, 0.1061, 0.1081, 0.1002, 0.1085, 0.1009, 0.0892, 0.0909, 0.1136, 0.0929],\n",
              "        [0.0897, 0.1056, 0.1077, 0.0999, 0.1083, 0.1015, 0.0897, 0.0914, 0.1132, 0.0928],\n",
              "        [0.0899, 0.1067, 0.1071, 0.1002, 0.1085, 0.1014, 0.0896, 0.0905, 0.1140, 0.0920],\n",
              "        [0.0893, 0.1049, 0.1081, 0.1006, 0.1093, 0.1017, 0.0887, 0.0912, 0.1135, 0.0926],\n",
              "        [0.0903, 0.1076, 0.1065, 0.1004, 0.1080, 0.1019, 0.0899, 0.0898, 0.1139, 0.0917],\n",
              "        [0.0896, 0.1058, 0.1088, 0.1007, 0.1089, 0.0997, 0.0895, 0.0912, 0.1133, 0.0926],\n",
              "        [0.0896, 0.1052, 0.1089, 0.1000, 0.1079, 0.1005, 0.0902, 0.0917, 0.1136, 0.0924]], grad_fn=<SoftmaxBackward>)"
            ]
          },
          "metadata": {
            "tags": []
          },
          "execution_count": 69
        }
      ]
    },
    {
      "cell_type": "code",
      "metadata": {
        "id": "qjTqQ8pv40WN",
        "colab_type": "code",
        "colab": {
          "base_uri": "https://localhost:8080/",
          "height": 35
        },
        "outputId": "c894b139-af81-4644-a2fa-f45c62d49f6b"
      },
      "source": [
        "preds.argmax(dim = 1)"
      ],
      "execution_count": 70,
      "outputs": [
        {
          "output_type": "execute_result",
          "data": {
            "text/plain": [
              "tensor([8, 8, 8, 8, 8, 8, 8, 8, 8, 8])"
            ]
          },
          "metadata": {
            "tags": []
          },
          "execution_count": 70
        }
      ]
    },
    {
      "cell_type": "code",
      "metadata": {
        "id": "-LsngcVz489d",
        "colab_type": "code",
        "colab": {
          "base_uri": "https://localhost:8080/",
          "height": 35
        },
        "outputId": "1920f2f7-be3e-4ebf-d438-1aded72d2347"
      },
      "source": [
        "labels"
      ],
      "execution_count": 71,
      "outputs": [
        {
          "output_type": "execute_result",
          "data": {
            "text/plain": [
              "tensor([9, 0, 0, 3, 0, 2, 7, 2, 5, 5])"
            ]
          },
          "metadata": {
            "tags": []
          },
          "execution_count": 71
        }
      ]
    },
    {
      "cell_type": "code",
      "metadata": {
        "id": "mLxZZmkf5Nnl",
        "colab_type": "code",
        "colab": {
          "base_uri": "https://localhost:8080/",
          "height": 35
        },
        "outputId": "45f62747-b35c-43b0-ee5e-aaccc13c1269"
      },
      "source": [
        "preds.argmax(dim=1).eq(labels).sum()\n",
        "# torch.tensor([9,0,1,3,0,2,7,2,4,3], dtype=torch.int32).eq(labels).sum()"
      ],
      "execution_count": 72,
      "outputs": [
        {
          "output_type": "execute_result",
          "data": {
            "text/plain": [
              "tensor(0)"
            ]
          },
          "metadata": {
            "tags": []
          },
          "execution_count": 72
        }
      ]
    },
    {
      "cell_type": "code",
      "metadata": {
        "id": "KD8oqbRs6iyK",
        "colab_type": "code",
        "colab": {
          "base_uri": "https://localhost:8080/",
          "height": 217
        },
        "outputId": "05c495eb-dd72-489a-8718-cdbe0449df47"
      },
      "source": [
        "preds"
      ],
      "execution_count": 73,
      "outputs": [
        {
          "output_type": "execute_result",
          "data": {
            "text/plain": [
              "tensor([[-0.1015,  0.0665,  0.0804,  0.0033,  0.0926,  0.0173, -0.1142, -0.0857,  0.1357, -0.0641],\n",
              "        [-0.0992,  0.0697,  0.0773,  0.0053,  0.0858,  0.0175, -0.1040, -0.0900,  0.1358, -0.0676],\n",
              "        [-0.1012,  0.0593,  0.0873,  0.0087,  0.0913,  0.0138, -0.1079, -0.0878,  0.1304, -0.0638],\n",
              "        [-0.1028,  0.0660,  0.0850,  0.0097,  0.0887,  0.0160, -0.1072, -0.0881,  0.1350, -0.0663],\n",
              "        [-0.1033,  0.0602,  0.0802,  0.0046,  0.0854,  0.0206, -0.1026, -0.0840,  0.1297, -0.0690],\n",
              "        [-0.0998,  0.0723,  0.0761,  0.0093,  0.0884,  0.0210, -0.1025, -0.0924,  0.1379, -0.0760],\n",
              "        [-0.1054,  0.0564,  0.0859,  0.0138,  0.0974,  0.0250, -0.1118, -0.0836,  0.1350, -0.0683],\n",
              "        [-0.0941,  0.0815,  0.0714,  0.0127,  0.0857,  0.0271, -0.0982, -0.0987,  0.1382, -0.0785],\n",
              "        [-0.1022,  0.0639,  0.0917,  0.0143,  0.0933,  0.0042, -0.1030, -0.0846,  0.1324, -0.0691],\n",
              "        [-0.1037,  0.0566,  0.0908,  0.0056,  0.0821,  0.0105, -0.0980, -0.0814,  0.1327, -0.0730]],\n",
              "       grad_fn=<AddmmBackward>)"
            ]
          },
          "metadata": {
            "tags": []
          },
          "execution_count": 73
        }
      ]
    },
    {
      "cell_type": "markdown",
      "metadata": {
        "id": "rOgLZZqVC568",
        "colab_type": "text"
      },
      "source": [
        "## Loss Function"
      ]
    },
    {
      "cell_type": "code",
      "metadata": {
        "id": "TSO4w43UC83M",
        "colab_type": "code",
        "colab": {
          "base_uri": "https://localhost:8080/",
          "height": 35
        },
        "outputId": "7ef66c60-e632-4708-8a04-464f0dc66f21"
      },
      "source": [
        "preds = network(images)\n",
        "loss = F.cross_entropy(preds, labels)\n",
        "loss"
      ],
      "execution_count": 74,
      "outputs": [
        {
          "output_type": "execute_result",
          "data": {
            "text/plain": [
              "tensor(2.3375, grad_fn=<NllLossBackward>)"
            ]
          },
          "metadata": {
            "tags": []
          },
          "execution_count": 74
        }
      ]
    },
    {
      "cell_type": "markdown",
      "metadata": {
        "id": "mjjN5ZeLDSRj",
        "colab_type": "text"
      },
      "source": [
        "## Calculating the Gradient"
      ]
    },
    {
      "cell_type": "code",
      "metadata": {
        "id": "XEavddnVDUT1",
        "colab_type": "code",
        "colab": {
          "base_uri": "https://localhost:8080/",
          "height": 35
        },
        "outputId": "f15fbd6e-0d5d-41c8-8ac3-5d5360cf6404"
      },
      "source": [
        "print(network.conv1.weight.grad)"
      ],
      "execution_count": 75,
      "outputs": [
        {
          "output_type": "stream",
          "text": [
            "None\n"
          ],
          "name": "stdout"
        }
      ]
    },
    {
      "cell_type": "code",
      "metadata": {
        "id": "TF_XcuzaDafi",
        "colab_type": "code",
        "colab": {}
      },
      "source": [
        "loss.backward()"
      ],
      "execution_count": 0,
      "outputs": []
    },
    {
      "cell_type": "markdown",
      "metadata": {
        "id": "whyQ-NGBDxDw",
        "colab_type": "text"
      },
      "source": [
        "## Update the weights"
      ]
    },
    {
      "cell_type": "code",
      "metadata": {
        "id": "fBE7FSFVD1OO",
        "colab_type": "code",
        "colab": {}
      },
      "source": [
        "optimizer = optim.Adam(network.parameters(), lr = 0.01) # lr : learning rate, a hyperparameter i.e. manually set and randomize"
      ],
      "execution_count": 0,
      "outputs": []
    },
    {
      "cell_type": "code",
      "metadata": {
        "id": "GBT3G0S2D8jg",
        "colab_type": "code",
        "colab": {
          "base_uri": "https://localhost:8080/",
          "height": 35
        },
        "outputId": "d9837bec-b53f-4231-defb-842bf0fcf99c"
      },
      "source": [
        "loss"
      ],
      "execution_count": 78,
      "outputs": [
        {
          "output_type": "execute_result",
          "data": {
            "text/plain": [
              "tensor(2.3375, grad_fn=<NllLossBackward>)"
            ]
          },
          "metadata": {
            "tags": []
          },
          "execution_count": 78
        }
      ]
    },
    {
      "cell_type": "code",
      "metadata": {
        "id": "trkNgh-xEJvV",
        "colab_type": "code",
        "colab": {
          "base_uri": "https://localhost:8080/",
          "height": 35
        },
        "outputId": "d115190b-34fb-4f91-93f1-b26ba28c1397"
      },
      "source": [
        "get_num_correct(preds, labels)"
      ],
      "execution_count": 79,
      "outputs": [
        {
          "output_type": "execute_result",
          "data": {
            "text/plain": [
              "0"
            ]
          },
          "metadata": {
            "tags": []
          },
          "execution_count": 79
        }
      ]
    },
    {
      "cell_type": "code",
      "metadata": {
        "id": "iX6Xbo1NEOYg",
        "colab_type": "code",
        "colab": {}
      },
      "source": [
        "optimizer.step() # Update the weights"
      ],
      "execution_count": 0,
      "outputs": []
    },
    {
      "cell_type": "code",
      "metadata": {
        "id": "PuqyX2qbEVhs",
        "colab_type": "code",
        "colab": {}
      },
      "source": [
        "# New batch of 100 images\n",
        "data_loader = torch.utils.data.DataLoader(\n",
        "    train_set,\n",
        "    batch_size = 100\n",
        ")\n",
        "\n",
        "batch = next(iter(data_loader))\n",
        "\n",
        "images, labels = batch\n",
        "\n",
        "\n",
        "preds = network(images)\n",
        "loss = F.cross_entropy(preds, labels)"
      ],
      "execution_count": 0,
      "outputs": []
    },
    {
      "cell_type": "code",
      "metadata": {
        "id": "2ikXFk53Ebrp",
        "colab_type": "code",
        "colab": {
          "base_uri": "https://localhost:8080/",
          "height": 35
        },
        "outputId": "94122266-6c00-4925-a7c1-60392a6ec090"
      },
      "source": [
        "loss.item()"
      ],
      "execution_count": 82,
      "outputs": [
        {
          "output_type": "execute_result",
          "data": {
            "text/plain": [
              "2.3115172386169434"
            ]
          },
          "metadata": {
            "tags": []
          },
          "execution_count": 82
        }
      ]
    },
    {
      "cell_type": "code",
      "metadata": {
        "id": "_JENZqrGEehw",
        "colab_type": "code",
        "colab": {
          "base_uri": "https://localhost:8080/",
          "height": 35
        },
        "outputId": "f9222d4e-52b1-41aa-cbc5-6fb9cabb9248"
      },
      "source": [
        "get_num_correct(preds, labels)"
      ],
      "execution_count": 83,
      "outputs": [
        {
          "output_type": "execute_result",
          "data": {
            "text/plain": [
              "9"
            ]
          },
          "metadata": {
            "tags": []
          },
          "execution_count": 83
        }
      ]
    },
    {
      "cell_type": "markdown",
      "metadata": {
        "id": "9wTZmObZFhjq",
        "colab_type": "text"
      },
      "source": [
        "# New network + Training in batches, epochs"
      ]
    },
    {
      "cell_type": "code",
      "metadata": {
        "id": "g9DZiw_UFlpC",
        "colab_type": "code",
        "colab": {
          "base_uri": "https://localhost:8080/",
          "height": 199
        },
        "outputId": "3819dbb3-6102-4967-8a1b-316f9e72b141"
      },
      "source": [
        "network = Network()\n",
        "\n",
        "train_loader = torch.utils.data.DataLoader(train_set, batch_size=100)\n",
        "optimizer = optim.Adam(network.parameters(), lr=0.01)\n",
        "\n",
        "for epoch in range(5):\n",
        "\n",
        "  total_loss = 0\n",
        "  total_correct = 0\n",
        "\n",
        "  for batch in train_loader: \n",
        "    images, labels = batch\n",
        "\n",
        "    preds = network(images)\n",
        "    loss = F.cross_entropy(preds, labels)\n",
        "\n",
        "    optimizer.zero_grad() # zero the gradients, \n",
        "    loss.backward() # Calculate gradient\n",
        "    optimizer.step() # Update the weights\n",
        "\n",
        "    total_loss += loss.item()\n",
        "    total_correct += get_num_correct(preds, labels)\n",
        "\n",
        "  print('epoch : ', epoch, 'total_correct : ', total_correct, 'loss : ', total_loss)\n",
        "  print('Accuracy : ', total_correct / len(train_set))"
      ],
      "execution_count": 84,
      "outputs": [
        {
          "output_type": "stream",
          "text": [
            "epoch :  0 total_correct :  46411 loss :  356.43276086449623\n",
            "Accuracy :  0.7735166666666666\n",
            "epoch :  1 total_correct :  50732 loss :  249.9372593909502\n",
            "Accuracy :  0.8455333333333334\n",
            "epoch :  2 total_correct :  51292 loss :  233.3340830206871\n",
            "Accuracy :  0.8548666666666667\n",
            "epoch :  3 total_correct :  51702 loss :  223.12693324685097\n",
            "Accuracy :  0.8617\n",
            "epoch :  4 total_correct :  51977 loss :  214.82850970327854\n",
            "Accuracy :  0.8662833333333333\n"
          ],
          "name": "stdout"
        }
      ]
    },
    {
      "cell_type": "code",
      "metadata": {
        "id": "V19KZOE8J5Dn",
        "colab_type": "code",
        "colab": {
          "base_uri": "https://localhost:8080/",
          "height": 35
        },
        "outputId": "bc8ecbaf-8353-40c8-f4f5-afd6c4a0b10c"
      },
      "source": [
        "total_correct / len(train_set)"
      ],
      "execution_count": 85,
      "outputs": [
        {
          "output_type": "execute_result",
          "data": {
            "text/plain": [
              "0.8662833333333333"
            ]
          },
          "metadata": {
            "tags": []
          },
          "execution_count": 85
        }
      ]
    },
    {
      "cell_type": "markdown",
      "metadata": {
        "id": "TYOR32mpXaSV",
        "colab_type": "text"
      },
      "source": [
        "## Confusion Matrix"
      ]
    },
    {
      "cell_type": "code",
      "metadata": {
        "id": "jS6qtLmlXb7P",
        "colab_type": "code",
        "colab": {
          "base_uri": "https://localhost:8080/",
          "height": 35
        },
        "outputId": "0c1116bb-6ba0-4fe8-e7d4-98413760a977"
      },
      "source": [
        "len(train_set)"
      ],
      "execution_count": 86,
      "outputs": [
        {
          "output_type": "execute_result",
          "data": {
            "text/plain": [
              "60000"
            ]
          },
          "metadata": {
            "tags": []
          },
          "execution_count": 86
        }
      ]
    },
    {
      "cell_type": "code",
      "metadata": {
        "id": "7u4vFDekXdjC",
        "colab_type": "code",
        "colab": {
          "base_uri": "https://localhost:8080/",
          "height": 35
        },
        "outputId": "2b83e89b-65de-4008-ea83-43512f688451"
      },
      "source": [
        "train_set.targets[0].item()"
      ],
      "execution_count": 90,
      "outputs": [
        {
          "output_type": "execute_result",
          "data": {
            "text/plain": [
              "9"
            ]
          },
          "metadata": {
            "tags": []
          },
          "execution_count": 90
        }
      ]
    },
    {
      "cell_type": "code",
      "metadata": {
        "id": "zki-2V08X5_i",
        "colab_type": "code",
        "colab": {}
      },
      "source": [
        "def get_all_preds(model, loader):\n",
        "  all_preds = torch.tensor([])\n",
        "  for batch in loader:\n",
        "    images, labels = batch\n",
        "\n",
        "    preds = model(images)\n",
        "    all_preds = torch.cat(\n",
        "        (all_preds, preds),\n",
        "        dim = 0\n",
        "    )\n",
        "\n",
        "  return all_preds"
      ],
      "execution_count": 0,
      "outputs": []
    },
    {
      "cell_type": "code",
      "metadata": {
        "id": "5-PwrbI0Yaj-",
        "colab_type": "code",
        "colab": {}
      },
      "source": [
        "prediction_loader = torch.utils.data.DataLoader(train_set, batch_size = 10000)\n",
        "train_preds = get_all_preds(network, prediction_loader)"
      ],
      "execution_count": 0,
      "outputs": []
    },
    {
      "cell_type": "code",
      "metadata": {
        "id": "2P9KvwFWb1Y4",
        "colab_type": "code",
        "colab": {
          "base_uri": "https://localhost:8080/",
          "height": 35
        },
        "outputId": "6522646e-901a-4172-f0db-0d0d7c254db8"
      },
      "source": [
        "train_preds.shape"
      ],
      "execution_count": 93,
      "outputs": [
        {
          "output_type": "execute_result",
          "data": {
            "text/plain": [
              "torch.Size([60000, 10])"
            ]
          },
          "metadata": {
            "tags": []
          },
          "execution_count": 93
        }
      ]
    },
    {
      "cell_type": "code",
      "metadata": {
        "id": "LyfuxDtnb5jh",
        "colab_type": "code",
        "colab": {
          "base_uri": "https://localhost:8080/",
          "height": 35
        },
        "outputId": "b8d9c790-8859-458e-f578-77f27730764c"
      },
      "source": [
        "print(train_preds.requires_grad)"
      ],
      "execution_count": 94,
      "outputs": [
        {
          "output_type": "stream",
          "text": [
            "True\n"
          ],
          "name": "stdout"
        }
      ]
    },
    {
      "cell_type": "code",
      "metadata": {
        "id": "pU_LozQWcNfM",
        "colab_type": "code",
        "colab": {
          "base_uri": "https://localhost:8080/",
          "height": 35
        },
        "outputId": "d850ee8b-e794-4402-ad0b-b0789ef2cf56"
      },
      "source": [
        "train_preds.grad_fn"
      ],
      "execution_count": 95,
      "outputs": [
        {
          "output_type": "execute_result",
          "data": {
            "text/plain": [
              "<CatBackward at 0x7f17944f2588>"
            ]
          },
          "metadata": {
            "tags": []
          },
          "execution_count": 95
        }
      ]
    },
    {
      "cell_type": "code",
      "metadata": {
        "id": "UtK5p8n0cWfp",
        "colab_type": "code",
        "colab": {}
      },
      "source": [
        "# Remove overhead of creating/tracking gradient graph\n",
        "with torch.no_grad():\n",
        "  prediction_loader = torch.utils.data.DataLoader(train_set, batch_size=10000)\n",
        "  train_preds = get_all_preds(network, prediction_loader)"
      ],
      "execution_count": 0,
      "outputs": []
    },
    {
      "cell_type": "code",
      "metadata": {
        "id": "0mZISaP3czuE",
        "colab_type": "code",
        "colab": {
          "base_uri": "https://localhost:8080/",
          "height": 35
        },
        "outputId": "d462c6f7-579c-4341-d8db-ec211ed18314"
      },
      "source": [
        "print(train_preds.requires_grad)"
      ],
      "execution_count": 97,
      "outputs": [
        {
          "output_type": "stream",
          "text": [
            "False\n"
          ],
          "name": "stdout"
        }
      ]
    },
    {
      "cell_type": "code",
      "metadata": {
        "id": "MvJa6tP9c5Vt",
        "colab_type": "code",
        "colab": {}
      },
      "source": [
        "train_preds.grad_fn"
      ],
      "execution_count": 0,
      "outputs": []
    },
    {
      "cell_type": "code",
      "metadata": {
        "id": "_ap859XQc9Vo",
        "colab_type": "code",
        "colab": {
          "base_uri": "https://localhost:8080/",
          "height": 53
        },
        "outputId": "2c6743f0-0fc9-4c19-ba1d-045e72a4f79c"
      },
      "source": [
        "preds_correct = get_num_correct(train_preds, train_set.targets)\n",
        "\n",
        "print('Total correct : ', preds_correct)\n",
        "print('Accuracy : ', preds_correct/len(train_set))"
      ],
      "execution_count": 101,
      "outputs": [
        {
          "output_type": "stream",
          "text": [
            "Total correct :  51344\n",
            "Accuracy :  0.8557333333333333\n"
          ],
          "name": "stdout"
        }
      ]
    },
    {
      "cell_type": "code",
      "metadata": {
        "id": "dcHl8Al8dt4q",
        "colab_type": "code",
        "colab": {
          "base_uri": "https://localhost:8080/",
          "height": 35
        },
        "outputId": "214b022d-b9f3-42da-b4ad-1dc4d34f1673"
      },
      "source": [
        "train_set.targets"
      ],
      "execution_count": 102,
      "outputs": [
        {
          "output_type": "execute_result",
          "data": {
            "text/plain": [
              "tensor([9, 0, 0,  ..., 3, 0, 5])"
            ]
          },
          "metadata": {
            "tags": []
          },
          "execution_count": 102
        }
      ]
    },
    {
      "cell_type": "code",
      "metadata": {
        "id": "SQGLdJGEdy2X",
        "colab_type": "code",
        "colab": {
          "base_uri": "https://localhost:8080/",
          "height": 35
        },
        "outputId": "8b075198-0b93-4da3-a124-de87379473e7"
      },
      "source": [
        "train_preds.argmax(dim=1)"
      ],
      "execution_count": 103,
      "outputs": [
        {
          "output_type": "execute_result",
          "data": {
            "text/plain": [
              "tensor([9, 0, 0,  ..., 3, 0, 5])"
            ]
          },
          "metadata": {
            "tags": []
          },
          "execution_count": 103
        }
      ]
    },
    {
      "cell_type": "code",
      "metadata": {
        "id": "yekA6vZcd-kq",
        "colab_type": "code",
        "colab": {}
      },
      "source": [
        "stacked = torch.stack(\n",
        "    (\n",
        "      train_set.targets,\n",
        "      train_preds.argmax(dim=1)\n",
        "    ),\n",
        "    dim = 1\n",
        ")"
      ],
      "execution_count": 0,
      "outputs": []
    },
    {
      "cell_type": "code",
      "metadata": {
        "id": "BWfufmBBet2v",
        "colab_type": "code",
        "colab": {
          "base_uri": "https://localhost:8080/",
          "height": 35
        },
        "outputId": "2375b5df-6c86-490b-e3a7-70c14d6a67c0"
      },
      "source": [
        "stacked.shape"
      ],
      "execution_count": 112,
      "outputs": [
        {
          "output_type": "execute_result",
          "data": {
            "text/plain": [
              "torch.Size([60000, 2])"
            ]
          },
          "metadata": {
            "tags": []
          },
          "execution_count": 112
        }
      ]
    },
    {
      "cell_type": "code",
      "metadata": {
        "id": "FHDQa3slewXz",
        "colab_type": "code",
        "colab": {
          "base_uri": "https://localhost:8080/",
          "height": 144
        },
        "outputId": "f0730ba9-fe5c-457c-fda7-8a898a2821d2"
      },
      "source": [
        "stacked"
      ],
      "execution_count": 113,
      "outputs": [
        {
          "output_type": "execute_result",
          "data": {
            "text/plain": [
              "tensor([[9, 9],\n",
              "        [0, 0],\n",
              "        [0, 0],\n",
              "        ...,\n",
              "        [3, 3],\n",
              "        [0, 0],\n",
              "        [5, 5]])"
            ]
          },
          "metadata": {
            "tags": []
          },
          "execution_count": 113
        }
      ]
    },
    {
      "cell_type": "code",
      "metadata": {
        "id": "LouxPOqvfBf2",
        "colab_type": "code",
        "colab": {
          "base_uri": "https://localhost:8080/",
          "height": 199
        },
        "outputId": "63d75375-b8d5-40ea-80ab-579229d44f28"
      },
      "source": [
        "conf_matrix = torch.zeros(10, 10, dtype = torch.int32)\n",
        "conf_matrix"
      ],
      "execution_count": 116,
      "outputs": [
        {
          "output_type": "execute_result",
          "data": {
            "text/plain": [
              "tensor([[0, 0, 0, 0, 0, 0, 0, 0, 0, 0],\n",
              "        [0, 0, 0, 0, 0, 0, 0, 0, 0, 0],\n",
              "        [0, 0, 0, 0, 0, 0, 0, 0, 0, 0],\n",
              "        [0, 0, 0, 0, 0, 0, 0, 0, 0, 0],\n",
              "        [0, 0, 0, 0, 0, 0, 0, 0, 0, 0],\n",
              "        [0, 0, 0, 0, 0, 0, 0, 0, 0, 0],\n",
              "        [0, 0, 0, 0, 0, 0, 0, 0, 0, 0],\n",
              "        [0, 0, 0, 0, 0, 0, 0, 0, 0, 0],\n",
              "        [0, 0, 0, 0, 0, 0, 0, 0, 0, 0],\n",
              "        [0, 0, 0, 0, 0, 0, 0, 0, 0, 0]], dtype=torch.int32)"
            ]
          },
          "metadata": {
            "tags": []
          },
          "execution_count": 116
        }
      ]
    },
    {
      "cell_type": "code",
      "metadata": {
        "id": "QyzA6PQlfX_W",
        "colab_type": "code",
        "colab": {}
      },
      "source": [
        "for p in stacked:\n",
        "  j,k = p.tolist() # j = true label, k = predicted label\n",
        "  conf_matrix[j,k] = conf_matrix[j,k] + 1"
      ],
      "execution_count": 0,
      "outputs": []
    },
    {
      "cell_type": "code",
      "metadata": {
        "id": "6Hq3II23fwiI",
        "colab_type": "code",
        "colab": {
          "base_uri": "https://localhost:8080/",
          "height": 199
        },
        "outputId": "006f14d2-a228-4333-bb15-8c514ff2298a"
      },
      "source": [
        "conf_matrix"
      ],
      "execution_count": 118,
      "outputs": [
        {
          "output_type": "execute_result",
          "data": {
            "text/plain": [
              "tensor([[5523,   59,   58,  215,   13,    9,   96,    0,   27,    0],\n",
              "        [  13, 5904,    5,   62,    3,    7,    3,    0,    2,    1],\n",
              "        [ 133,   13, 4249,  105, 1133,    7,  347,    0,   13,    0],\n",
              "        [ 258,  339,   17, 5294,   40,    3,   41,    0,    7,    1],\n",
              "        [  25,   58,  239,  621, 4670,    1,  366,    0,   20,    0],\n",
              "        [   1,    0,    1,    1,    0, 5853,    0,   72,   19,   53],\n",
              "        [1837,   56,  529,  203,  575,    5, 2752,    0,   43,    0],\n",
              "        [   0,    0,    0,    0,    0,  197,    0, 5634,   25,  144],\n",
              "        [  37,    5,   46,   23,   27,   24,   66,    3, 5763,    6],\n",
              "        [   0,    3,    0,    3,    0,   71,    2,  212,    7, 5702]], dtype=torch.int32)"
            ]
          },
          "metadata": {
            "tags": []
          },
          "execution_count": 118
        }
      ]
    },
    {
      "cell_type": "markdown",
      "metadata": {
        "id": "qq2ipvjNgLy0",
        "colab_type": "text"
      },
      "source": [
        "## Plotting the Confusion Matrix"
      ]
    },
    {
      "cell_type": "code",
      "metadata": {
        "id": "7ZYDUUR8f93T",
        "colab_type": "code",
        "colab": {}
      },
      "source": [
        "from sklearn.metrics import confusion_matrix"
      ],
      "execution_count": 0,
      "outputs": []
    },
    {
      "cell_type": "code",
      "metadata": {
        "id": "BpEM9Fh9gm7F",
        "colab_type": "code",
        "colab": {
          "base_uri": "https://localhost:8080/",
          "height": 199
        },
        "outputId": "6d72803c-5270-47dc-a39e-0827322631bf"
      },
      "source": [
        "cm = confusion_matrix(train_set.targets, train_preds.argmax(dim=1))\n",
        "print(cm)"
      ],
      "execution_count": 121,
      "outputs": [
        {
          "output_type": "stream",
          "text": [
            "[[5523   59   58  215   13    9   96    0   27    0]\n",
            " [  13 5904    5   62    3    7    3    0    2    1]\n",
            " [ 133   13 4249  105 1133    7  347    0   13    0]\n",
            " [ 258  339   17 5294   40    3   41    0    7    1]\n",
            " [  25   58  239  621 4670    1  366    0   20    0]\n",
            " [   1    0    1    1    0 5853    0   72   19   53]\n",
            " [1837   56  529  203  575    5 2752    0   43    0]\n",
            " [   0    0    0    0    0  197    0 5634   25  144]\n",
            " [  37    5   46   23   27   24   66    3 5763    6]\n",
            " [   0    3    0    3    0   71    2  212    7 5702]]\n"
          ],
          "name": "stdout"
        }
      ]
    },
    {
      "cell_type": "code",
      "metadata": {
        "id": "xXECPi_bnXob",
        "colab_type": "code",
        "colab": {}
      },
      "source": [
        "import itertools\n",
        "def plot_confusion_matrix(cm, classes, normalize=False, title='Confusion matrix', cmap=plt.cm.Blues):\n",
        "  if normalize:\n",
        "      cm = cm.astype('float') / cm.sum(axis=1)[:, np.newaxis]\n",
        "      print(\"Normalized confusion matrix\")\n",
        "  else:\n",
        "      print('Confusion matrix, without normalization')\n",
        "\n",
        "  print(cm)\n",
        "  plt.imshow(cm, interpolation='nearest', cmap=cmap)\n",
        "  plt.title(title)\n",
        "  plt.colorbar()\n",
        "  tick_marks = np.arange(len(classes))\n",
        "  plt.xticks(tick_marks, classes, rotation=45)\n",
        "  plt.yticks(tick_marks, classes)\n",
        "\n",
        "  fmt = '.2f' if normalize else 'd'\n",
        "  thresh = cm.max() / 2.\n",
        "  for i, j in itertools.product(range(cm.shape[0]), range(cm.shape[1])):\n",
        "      plt.text(j, i, format(cm[i, j], fmt), horizontalalignment=\"center\", color=\"white\" if cm[i, j] > thresh else \"black\")\n",
        "\n",
        "  plt.tight_layout()\n",
        "  plt.ylabel('True label')\n",
        "  plt.xlabel('Predicted label')"
      ],
      "execution_count": 0,
      "outputs": []
    },
    {
      "cell_type": "code",
      "metadata": {
        "id": "bZx2GDlkmxUK",
        "colab_type": "code",
        "colab": {
          "base_uri": "https://localhost:8080/",
          "height": 929
        },
        "outputId": "55f1083f-6dd5-4892-fd9a-05aa0149cd58"
      },
      "source": [
        "names = (\n",
        "    'T-shirt/top'\n",
        "    ,'Trouser'\n",
        "    ,'Pullover'\n",
        "    ,'Dress'\n",
        "    ,'Coat'\n",
        "    ,'Sandal'\n",
        "    ,'Shirt'\n",
        "    ,'Sneaker'\n",
        "    ,'Bag'\n",
        "    ,'Ankle boot'\n",
        ")\n",
        "plt.figure(figsize=(10,10))\n",
        "plot_confusion_matrix(conf_matrix, names)"
      ],
      "execution_count": 131,
      "outputs": [
        {
          "output_type": "stream",
          "text": [
            "Confusion matrix, without normalization\n",
            "tensor([[5523,   59,   58,  215,   13,    9,   96,    0,   27,    0],\n",
            "        [  13, 5904,    5,   62,    3,    7,    3,    0,    2,    1],\n",
            "        [ 133,   13, 4249,  105, 1133,    7,  347,    0,   13,    0],\n",
            "        [ 258,  339,   17, 5294,   40,    3,   41,    0,    7,    1],\n",
            "        [  25,   58,  239,  621, 4670,    1,  366,    0,   20,    0],\n",
            "        [   1,    0,    1,    1,    0, 5853,    0,   72,   19,   53],\n",
            "        [1837,   56,  529,  203,  575,    5, 2752,    0,   43,    0],\n",
            "        [   0,    0,    0,    0,    0,  197,    0, 5634,   25,  144],\n",
            "        [  37,    5,   46,   23,   27,   24,   66,    3, 5763,    6],\n",
            "        [   0,    3,    0,    3,    0,   71,    2,  212,    7, 5702]], dtype=torch.int32)\n"
          ],
          "name": "stdout"
        },
        {
          "output_type": "display_data",
          "data": {
            "image/png": "[encoded data removed]",
            "text/plain": [
              "<Figure size 720x720 with 2 Axes>"
            ]
          },
          "metadata": {
            "tags": []
          }
        }
      ]
    }
  ]
}