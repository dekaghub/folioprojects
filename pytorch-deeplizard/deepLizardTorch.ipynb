{
  "nbformat": 4,
  "nbformat_minor": 0,
  "metadata": {
    "colab": {
      "name": "deepLizardTorch.ipynb",
      "provenance": [],
      "collapsed_sections": []
    },
    "kernelspec": {
      "name": "python3",
      "display_name": "Python 3"
    }
  },
  "cells": [
    {
      "cell_type": "code",
      "metadata": {
        "id": "fDFV30DP0Pbo",
        "colab_type": "code",
        "colab": {}
      },
      "source": [
        "import torch\n",
        "import numpy as np\n",
        "\n",
        "data = np.array([1,2,3])"
      ],
      "execution_count": 0,
      "outputs": []
    },
    {
      "cell_type": "code",
      "metadata": {
        "id": "d12-Rma_0oxl",
        "colab_type": "code",
        "outputId": "a2c38797-3cb5-4fdf-8ec9-cc3a9b6c0a49",
        "colab": {
          "base_uri": "https://localhost:8080/",
          "height": 35
        }
      },
      "source": [
        "torch.Tensor(data) # class constructor"
      ],
      "execution_count": 131,
      "outputs": [
        {
          "output_type": "execute_result",
          "data": {
            "text/plain": [
              "tensor([1., 2., 3.])"
            ]
          },
          "metadata": {
            "tags": []
          },
          "execution_count": 131
        }
      ]
    },
    {
      "cell_type": "code",
      "metadata": {
        "id": "W4Fltf_t0rZZ",
        "colab_type": "code",
        "outputId": "879d9030-39e7-4db2-c6eb-f9ccf288c59d",
        "colab": {
          "base_uri": "https://localhost:8080/",
          "height": 35
        }
      },
      "source": [
        "torch.tensor(data) # factory function / constructor, .tensor is the same as .as_tensor(data), from_numpy(data)."
      ],
      "execution_count": 132,
      "outputs": [
        {
          "output_type": "execute_result",
          "data": {
            "text/plain": [
              "tensor([1, 2, 3])"
            ]
          },
          "metadata": {
            "tags": []
          },
          "execution_count": 132
        }
      ]
    },
    {
      "cell_type": "code",
      "metadata": {
        "id": "inlKL6lE1YSg",
        "colab_type": "code",
        "outputId": "79d46024-50c5-41df-abf6-db67cac1c653",
        "colab": {
          "base_uri": "https://localhost:8080/",
          "height": 53
        }
      },
      "source": [
        "torch.eye(2) # identity function"
      ],
      "execution_count": 133,
      "outputs": [
        {
          "output_type": "execute_result",
          "data": {
            "text/plain": [
              "tensor([[1., 0.],\n",
              "        [0., 1.]])"
            ]
          },
          "metadata": {
            "tags": []
          },
          "execution_count": 133
        }
      ]
    },
    {
      "cell_type": "code",
      "metadata": {
        "id": "yXHbREpC1v4n",
        "colab_type": "code",
        "outputId": "7e9a0c00-2bd4-4fe4-bb3a-4fab2b728c6e",
        "colab": {
          "base_uri": "https://localhost:8080/",
          "height": 53
        }
      },
      "source": [
        "torch.zeros(2,2) # create a tensor with all 0s, tensor.ones(x,y) with all 1s, tensor.rand(x,y) with random 0-1."
      ],
      "execution_count": 134,
      "outputs": [
        {
          "output_type": "execute_result",
          "data": {
            "text/plain": [
              "tensor([[0., 0.],\n",
              "        [0., 0.]])"
            ]
          },
          "metadata": {
            "tags": []
          },
          "execution_count": 134
        }
      ]
    },
    {
      "cell_type": "code",
      "metadata": {
        "id": "2pFvj8Xad2e-",
        "colab_type": "code",
        "colab": {}
      },
      "source": [
        "t = torch.tensor([\n",
        "                  [1,1,1,1],\n",
        "                  [2,2,2,2],            \n",
        "], dtype = torch.float32)"
      ],
      "execution_count": 0,
      "outputs": []
    },
    {
      "cell_type": "code",
      "metadata": {
        "id": "JMyjbtGWf1bG",
        "colab_type": "code",
        "outputId": "732f34b0-1792-4b9c-b8e0-4639d649016a",
        "colab": {
          "base_uri": "https://localhost:8080/",
          "height": 35
        }
      },
      "source": [
        "t.shape"
      ],
      "execution_count": 136,
      "outputs": [
        {
          "output_type": "execute_result",
          "data": {
            "text/plain": [
              "torch.Size([2, 4])"
            ]
          },
          "metadata": {
            "tags": []
          },
          "execution_count": 136
        }
      ]
    },
    {
      "cell_type": "code",
      "metadata": {
        "id": "Rwn0G8oxf-b4",
        "colab_type": "code",
        "outputId": "a36515d9-8001-4bae-a237-46be638a7d6b",
        "colab": {
          "base_uri": "https://localhost:8080/",
          "height": 35
        }
      },
      "source": [
        "len(t.shape)"
      ],
      "execution_count": 137,
      "outputs": [
        {
          "output_type": "execute_result",
          "data": {
            "text/plain": [
              "2"
            ]
          },
          "metadata": {
            "tags": []
          },
          "execution_count": 137
        }
      ]
    },
    {
      "cell_type": "code",
      "metadata": {
        "id": "2-IExrNygU6x",
        "colab_type": "code",
        "outputId": "85919f48-2d0f-493f-94fb-63b4e1a54a34",
        "colab": {
          "base_uri": "https://localhost:8080/",
          "height": 35
        }
      },
      "source": [
        "t = torch.tensor([\n",
        "                  [\n",
        "                   [1,2],\n",
        "                   [2,3],\n",
        "                   [3,4]               \n",
        "                   ],\n",
        "                  [\n",
        "                   [2,2],\n",
        "                   [2,3],\n",
        "                   [3,4,]               \n",
        "                   ]\n",
        "], dtype = torch.int)\n",
        "\n",
        "t.shape\n",
        "len(t.shape)"
      ],
      "execution_count": 138,
      "outputs": [
        {
          "output_type": "execute_result",
          "data": {
            "text/plain": [
              "3"
            ]
          },
          "metadata": {
            "tags": []
          },
          "execution_count": 138
        }
      ]
    },
    {
      "cell_type": "code",
      "metadata": {
        "id": "jR0qApb6iJwC",
        "colab_type": "code",
        "outputId": "20f4dafe-ba0a-49e4-bbd1-4d9b53cf0594",
        "colab": {
          "base_uri": "https://localhost:8080/",
          "height": 35
        }
      },
      "source": [
        "torch.tensor(t.shape).prod()"
      ],
      "execution_count": 139,
      "outputs": [
        {
          "output_type": "execute_result",
          "data": {
            "text/plain": [
              "tensor(12)"
            ]
          },
          "metadata": {
            "tags": []
          },
          "execution_count": 139
        }
      ]
    },
    {
      "cell_type": "code",
      "metadata": {
        "id": "7nWFptzCio8M",
        "colab_type": "code",
        "outputId": "3c0ccd6b-cfc3-4303-de4f-1ca53a738629",
        "colab": {
          "base_uri": "https://localhost:8080/",
          "height": 35
        }
      },
      "source": [
        "t.numel()"
      ],
      "execution_count": 140,
      "outputs": [
        {
          "output_type": "execute_result",
          "data": {
            "text/plain": [
              "12"
            ]
          },
          "metadata": {
            "tags": []
          },
          "execution_count": 140
        }
      ]
    },
    {
      "cell_type": "code",
      "metadata": {
        "id": "4AGR2G3OjUUz",
        "colab_type": "code",
        "outputId": "c608f672-ed43-49aa-bbcd-493fe3db9e3b",
        "colab": {
          "base_uri": "https://localhost:8080/",
          "height": 90
        }
      },
      "source": [
        "t.reshape(4,3)"
      ],
      "execution_count": 141,
      "outputs": [
        {
          "output_type": "execute_result",
          "data": {
            "text/plain": [
              "tensor([[1, 2, 2],\n",
              "        [3, 3, 4],\n",
              "        [2, 2, 2],\n",
              "        [3, 3, 4]], dtype=torch.int32)"
            ]
          },
          "metadata": {
            "tags": []
          },
          "execution_count": 141
        }
      ]
    },
    {
      "cell_type": "code",
      "metadata": {
        "id": "XQDLR7z7jeE2",
        "colab_type": "code",
        "outputId": "a1b15e49-bc76-460f-e623-b3a09ae52255",
        "colab": {
          "base_uri": "https://localhost:8080/",
          "height": 35
        }
      },
      "source": [
        "t.reshape(1,12)"
      ],
      "execution_count": 142,
      "outputs": [
        {
          "output_type": "execute_result",
          "data": {
            "text/plain": [
              "tensor([[1, 2, 2, 3, 3, 4, 2, 2, 2, 3, 3, 4]], dtype=torch.int32)"
            ]
          },
          "metadata": {
            "tags": []
          },
          "execution_count": 142
        }
      ]
    },
    {
      "cell_type": "code",
      "metadata": {
        "id": "dXJfC12RjkoJ",
        "colab_type": "code",
        "outputId": "464d1f08-76d1-443e-c692-1df4a2d909ca",
        "colab": {
          "base_uri": "https://localhost:8080/",
          "height": 235
        }
      },
      "source": [
        "t.reshape(12,1)"
      ],
      "execution_count": 143,
      "outputs": [
        {
          "output_type": "execute_result",
          "data": {
            "text/plain": [
              "tensor([[1],\n",
              "        [2],\n",
              "        [2],\n",
              "        [3],\n",
              "        [3],\n",
              "        [4],\n",
              "        [2],\n",
              "        [2],\n",
              "        [2],\n",
              "        [3],\n",
              "        [3],\n",
              "        [4]], dtype=torch.int32)"
            ]
          },
          "metadata": {
            "tags": []
          },
          "execution_count": 143
        }
      ]
    },
    {
      "cell_type": "code",
      "metadata": {
        "id": "SSp8QwC9jomI",
        "colab_type": "code",
        "outputId": "0a55e65b-87af-418d-a70c-3ca96ac53cad",
        "colab": {
          "base_uri": "https://localhost:8080/",
          "height": 53
        }
      },
      "source": [
        "t.reshape(2,6)"
      ],
      "execution_count": 144,
      "outputs": [
        {
          "output_type": "execute_result",
          "data": {
            "text/plain": [
              "tensor([[1, 2, 2, 3, 3, 4],\n",
              "        [2, 2, 2, 3, 3, 4]], dtype=torch.int32)"
            ]
          },
          "metadata": {
            "tags": []
          },
          "execution_count": 144
        }
      ]
    },
    {
      "cell_type": "code",
      "metadata": {
        "id": "gKCtKNrikCRL",
        "colab_type": "code",
        "outputId": "f7d47464-7ca9-430e-d887-c907331f91f9",
        "colab": {
          "base_uri": "https://localhost:8080/",
          "height": 144
        }
      },
      "source": [
        "t.reshape(2,3,2)"
      ],
      "execution_count": 145,
      "outputs": [
        {
          "output_type": "execute_result",
          "data": {
            "text/plain": [
              "tensor([[[1, 2],\n",
              "         [2, 3],\n",
              "         [3, 4]],\n",
              "\n",
              "        [[2, 2],\n",
              "         [2, 3],\n",
              "         [3, 4]]], dtype=torch.int32)"
            ]
          },
          "metadata": {
            "tags": []
          },
          "execution_count": 145
        }
      ]
    },
    {
      "cell_type": "code",
      "metadata": {
        "id": "37CfdYh-kW5N",
        "colab_type": "code",
        "outputId": "d4f8a6d3-7cef-4dc8-9679-e2faa452dda4",
        "colab": {
          "base_uri": "https://localhost:8080/",
          "height": 162
        }
      },
      "source": [
        "t.reshape(3,2,2)"
      ],
      "execution_count": 146,
      "outputs": [
        {
          "output_type": "execute_result",
          "data": {
            "text/plain": [
              "tensor([[[1, 2],\n",
              "         [2, 3]],\n",
              "\n",
              "        [[3, 4],\n",
              "         [2, 2]],\n",
              "\n",
              "        [[2, 3],\n",
              "         [3, 4]]], dtype=torch.int32)"
            ]
          },
          "metadata": {
            "tags": []
          },
          "execution_count": 146
        }
      ]
    },
    {
      "cell_type": "code",
      "metadata": {
        "id": "GJ5aCKqykcal",
        "colab_type": "code",
        "outputId": "c08c5cfd-4e8c-455d-bbf6-25cc9fc2d65e",
        "colab": {
          "base_uri": "https://localhost:8080/",
          "height": 35
        }
      },
      "source": [
        "def flatten(t):\n",
        "    t = t.reshape(1,-1)\n",
        "    t = t.squeeze()\n",
        "    return t\n",
        "\n",
        "t = torch.ones(3,4)\n",
        "print(flatten(t))"
      ],
      "execution_count": 147,
      "outputs": [
        {
          "output_type": "stream",
          "text": [
            "tensor([1., 1., 1., 1., 1., 1., 1., 1., 1., 1., 1., 1.])\n"
          ],
          "name": "stdout"
        }
      ]
    },
    {
      "cell_type": "markdown",
      "metadata": {
        "id": "6FpG-_bMHgOu",
        "colab_type": "text"
      },
      "source": [
        "## Tensor\n",
        "\n",
        "* Catenation"
      ]
    },
    {
      "cell_type": "code",
      "metadata": {
        "id": "PcPnsPfFHcHY",
        "colab_type": "code",
        "outputId": "c173266f-0525-4c88-def4-f69b13a47330",
        "colab": {
          "base_uri": "https://localhost:8080/",
          "height": 126
        }
      },
      "source": [
        "t1 = torch.zeros(3,3)\n",
        "t2 = torch.ones(3,3)\n",
        "\n",
        "t3 = torch.tensor([[1,2],\n",
        "                   [3,4]\n",
        "                   ], dtype = torch.int)\n",
        "t4 = torch.tensor([[5,2],\n",
        "                   [3,8]\n",
        "                   ], dtype = torch.int)\n",
        "\n",
        "print(torch.cat((t3,t4),dim=0))\n",
        "print(torch.cat((t3,t4),dim=1))\n"
      ],
      "execution_count": 148,
      "outputs": [
        {
          "output_type": "stream",
          "text": [
            "tensor([[1, 2],\n",
            "        [3, 4],\n",
            "        [5, 2],\n",
            "        [3, 8]], dtype=torch.int32)\n",
            "tensor([[1, 2, 5, 2],\n",
            "        [3, 4, 3, 8]], dtype=torch.int32)\n"
          ],
          "name": "stdout"
        }
      ]
    },
    {
      "cell_type": "markdown",
      "metadata": {
        "id": "2SYhbh6tFrzj",
        "colab_type": "text"
      },
      "source": [
        "Tensor Operations - CNN"
      ]
    },
    {
      "cell_type": "code",
      "metadata": {
        "id": "2plWowIKFxZq",
        "colab_type": "code",
        "outputId": "68da554b-48f9-43c2-8992-7728154d3936",
        "colab": {
          "base_uri": "https://localhost:8080/",
          "height": 308
        }
      },
      "source": [
        "t1 = torch.tensor([\n",
        "    [1,1,1,1],\n",
        "    [1,1,1,1],\n",
        "    [1,1,1,1],\n",
        "    [1,1,1,1]\n",
        "])\n",
        "\n",
        "t2 = torch.tensor([\n",
        "    [2,2,2,2],\n",
        "    [2,2,2,2],\n",
        "    [2,2,2,2],\n",
        "    [2,2,2,2]\n",
        "])\n",
        "\n",
        "t3 = torch.tensor([\n",
        "    [3,3,3,3],\n",
        "    [3,3,3,3],\n",
        "    [3,3,3,3],\n",
        "    [3,3,3,3]\n",
        "])\n",
        "\n",
        "t = torch.stack((t1, t2, t3))\n",
        "t.shape\n",
        "\n",
        "t = t.reshape(3,1,4,4)\n",
        "t\n",
        "\n",
        "t[0][0][0]\n",
        "\n",
        "t\n"
      ],
      "execution_count": 149,
      "outputs": [
        {
          "output_type": "execute_result",
          "data": {
            "text/plain": [
              "tensor([[[[1, 1, 1, 1],\n",
              "          [1, 1, 1, 1],\n",
              "          [1, 1, 1, 1],\n",
              "          [1, 1, 1, 1]]],\n",
              "\n",
              "\n",
              "        [[[2, 2, 2, 2],\n",
              "          [2, 2, 2, 2],\n",
              "          [2, 2, 2, 2],\n",
              "          [2, 2, 2, 2]]],\n",
              "\n",
              "\n",
              "        [[[3, 3, 3, 3],\n",
              "          [3, 3, 3, 3],\n",
              "          [3, 3, 3, 3],\n",
              "          [3, 3, 3, 3]]]])"
            ]
          },
          "metadata": {
            "tags": []
          },
          "execution_count": 149
        }
      ]
    },
    {
      "cell_type": "code",
      "metadata": {
        "id": "wLJYt4NqNiKA",
        "colab_type": "code",
        "outputId": "db94ff87-fba7-48da-a35d-9917ab3a62a4",
        "colab": {
          "base_uri": "https://localhost:8080/",
          "height": 308
        }
      },
      "source": [
        "# t.reshape(1,48)\n",
        "# x = t.reshape(3,1,2,2,4)\n",
        "# x.flatten(start_dim=3).shape\n",
        "\n",
        "t.flatten(start_dim=1)\n",
        "\n",
        "t\n",
        "\n"
      ],
      "execution_count": 150,
      "outputs": [
        {
          "output_type": "execute_result",
          "data": {
            "text/plain": [
              "tensor([[[[1, 1, 1, 1],\n",
              "          [1, 1, 1, 1],\n",
              "          [1, 1, 1, 1],\n",
              "          [1, 1, 1, 1]]],\n",
              "\n",
              "\n",
              "        [[[2, 2, 2, 2],\n",
              "          [2, 2, 2, 2],\n",
              "          [2, 2, 2, 2],\n",
              "          [2, 2, 2, 2]]],\n",
              "\n",
              "\n",
              "        [[[3, 3, 3, 3],\n",
              "          [3, 3, 3, 3],\n",
              "          [3, 3, 3, 3],\n",
              "          [3, 3, 3, 3]]]])"
            ]
          },
          "metadata": {
            "tags": []
          },
          "execution_count": 150
        }
      ]
    },
    {
      "cell_type": "markdown",
      "metadata": {
        "id": "MZ9vRtCyMdKL",
        "colab_type": "text"
      },
      "source": [
        "# Tensor Reduction Operations"
      ]
    },
    {
      "cell_type": "code",
      "metadata": {
        "id": "x1six8FkMhhg",
        "colab_type": "code",
        "outputId": "c1714f88-8925-427b-85f0-f62dbb45e78d",
        "colab": {
          "base_uri": "https://localhost:8080/",
          "height": 35
        }
      },
      "source": [
        "t = torch.tensor([\n",
        "                  [1,1,1,1],\n",
        "                  [3,3,3,3],\n",
        "                  [5,5,5,5]\n",
        "                  ], dtype = torch.int)\n",
        "t.sum()"
      ],
      "execution_count": 151,
      "outputs": [
        {
          "output_type": "execute_result",
          "data": {
            "text/plain": [
              "tensor(36)"
            ]
          },
          "metadata": {
            "tags": []
          },
          "execution_count": 151
        }
      ]
    },
    {
      "cell_type": "code",
      "metadata": {
        "id": "lOZMlEFcNIwx",
        "colab_type": "code",
        "outputId": "64831242-c5dc-4553-e53b-c6d13b183e2b",
        "colab": {
          "base_uri": "https://localhost:8080/",
          "height": 35
        }
      },
      "source": [
        "t.sum(dim=0)"
      ],
      "execution_count": 152,
      "outputs": [
        {
          "output_type": "execute_result",
          "data": {
            "text/plain": [
              "tensor([9, 9, 9, 9])"
            ]
          },
          "metadata": {
            "tags": []
          },
          "execution_count": 152
        }
      ]
    },
    {
      "cell_type": "code",
      "metadata": {
        "id": "w4RkTFq3NL_f",
        "colab_type": "code",
        "outputId": "d51aba56-9af5-4991-cb7c-021d3317b17c",
        "colab": {
          "base_uri": "https://localhost:8080/",
          "height": 35
        }
      },
      "source": [
        "t.sum(dim=1)"
      ],
      "execution_count": 153,
      "outputs": [
        {
          "output_type": "execute_result",
          "data": {
            "text/plain": [
              "tensor([ 4, 12, 20])"
            ]
          },
          "metadata": {
            "tags": []
          },
          "execution_count": 153
        }
      ]
    },
    {
      "cell_type": "code",
      "metadata": {
        "id": "k_tzngcZNNr5",
        "colab_type": "code",
        "outputId": "beef2642-f41e-44ed-e8c1-467949c28b1a",
        "colab": {
          "base_uri": "https://localhost:8080/",
          "height": 144
        }
      },
      "source": [
        "t.reshape(2,3,2)"
      ],
      "execution_count": 154,
      "outputs": [
        {
          "output_type": "execute_result",
          "data": {
            "text/plain": [
              "tensor([[[1, 1],\n",
              "         [1, 1],\n",
              "         [3, 3]],\n",
              "\n",
              "        [[3, 3],\n",
              "         [5, 5],\n",
              "         [5, 5]]], dtype=torch.int32)"
            ]
          },
          "metadata": {
            "tags": []
          },
          "execution_count": 154
        }
      ]
    },
    {
      "cell_type": "code",
      "metadata": {
        "id": "2fTRVFObNi6h",
        "colab_type": "code",
        "outputId": "26b61cee-e038-403e-d783-3e6b53d7f1a2",
        "colab": {
          "base_uri": "https://localhost:8080/",
          "height": 72
        }
      },
      "source": [
        "# t.reshape(2,3,2).sum(dim=1)\n",
        "t.reshape(3,2,2).sum(dim=2) == t.reshape(3,2,2).sum(dim=1)"
      ],
      "execution_count": 155,
      "outputs": [
        {
          "output_type": "execute_result",
          "data": {
            "text/plain": [
              "tensor([[True, True],\n",
              "        [True, True],\n",
              "        [True, True]])"
            ]
          },
          "metadata": {
            "tags": []
          },
          "execution_count": 155
        }
      ]
    },
    {
      "cell_type": "code",
      "metadata": {
        "id": "BFGzMCKnV6EN",
        "colab_type": "code",
        "outputId": "55e695c9-c32d-4f02-af3d-573d39a681a7",
        "colab": {
          "base_uri": "https://localhost:8080/",
          "height": 35
        }
      },
      "source": [
        "# t = torch.tensor([\n",
        "#                   [1,0,0,1],\n",
        "#                   [3,0,2,1],\n",
        "#                   [4,3,2,1]\n",
        "#                   ], dtype = torch.int32)\n",
        "t = torch.tensor([\n",
        "                  [1,0,0,6],\n",
        "                  [0,3,3,0],\n",
        "                  [4,0,0,5]\n",
        "                  ], dtype = torch.int32)\n",
        "t.argmax()"
      ],
      "execution_count": 156,
      "outputs": [
        {
          "output_type": "execute_result",
          "data": {
            "text/plain": [
              "tensor(3)"
            ]
          },
          "metadata": {
            "tags": []
          },
          "execution_count": 156
        }
      ]
    },
    {
      "cell_type": "code",
      "metadata": {
        "id": "a2S4LZ17W3Su",
        "colab_type": "code",
        "outputId": "3a8290e2-52a6-4df3-ed06-61c8fbec2fd9",
        "colab": {
          "base_uri": "https://localhost:8080/",
          "height": 35
        }
      },
      "source": [
        "t.flatten()"
      ],
      "execution_count": 157,
      "outputs": [
        {
          "output_type": "execute_result",
          "data": {
            "text/plain": [
              "tensor([1, 0, 0, 6, 0, 3, 3, 0, 4, 0, 0, 5], dtype=torch.int32)"
            ]
          },
          "metadata": {
            "tags": []
          },
          "execution_count": 157
        }
      ]
    },
    {
      "cell_type": "code",
      "metadata": {
        "id": "4o8TcMmmW9R6",
        "colab_type": "code",
        "outputId": "904ce902-253e-4602-af84-e10f9c462e33",
        "colab": {
          "base_uri": "https://localhost:8080/",
          "height": 35
        }
      },
      "source": [
        "t.max(dim=0)"
      ],
      "execution_count": 158,
      "outputs": [
        {
          "output_type": "execute_result",
          "data": {
            "text/plain": [
              "torch.return_types.max(values=tensor([4, 3, 3, 6], dtype=torch.int32), indices=tensor([2, 1, 1, 0]))"
            ]
          },
          "metadata": {
            "tags": []
          },
          "execution_count": 158
        }
      ]
    },
    {
      "cell_type": "code",
      "metadata": {
        "id": "CTktyd0nXoYO",
        "colab_type": "code",
        "outputId": "b03280af-e223-4037-8ccd-cca2ecb7f6de",
        "colab": {
          "base_uri": "https://localhost:8080/",
          "height": 35
        }
      },
      "source": [
        "t.argmax(dim=0)"
      ],
      "execution_count": 159,
      "outputs": [
        {
          "output_type": "execute_result",
          "data": {
            "text/plain": [
              "tensor([2, 1, 1, 0])"
            ]
          },
          "metadata": {
            "tags": []
          },
          "execution_count": 159
        }
      ]
    },
    {
      "cell_type": "code",
      "metadata": {
        "id": "HimAo8DsXte8",
        "colab_type": "code",
        "outputId": "3f8e0a29-86f2-461a-c6c3-4fd7034f9408",
        "colab": {
          "base_uri": "https://localhost:8080/",
          "height": 35
        }
      },
      "source": [
        "t.max(dim=1)"
      ],
      "execution_count": 160,
      "outputs": [
        {
          "output_type": "execute_result",
          "data": {
            "text/plain": [
              "torch.return_types.max(values=tensor([6, 3, 5], dtype=torch.int32), indices=tensor([3, 2, 3]))"
            ]
          },
          "metadata": {
            "tags": []
          },
          "execution_count": 160
        }
      ]
    },
    {
      "cell_type": "code",
      "metadata": {
        "id": "vb2vlUy8YRGf",
        "colab_type": "code",
        "outputId": "5ffd1e40-2749-456f-cf1b-0ec70addc558",
        "colab": {
          "base_uri": "https://localhost:8080/",
          "height": 144
        }
      },
      "source": [
        "t.reshape(2,3,2)"
      ],
      "execution_count": 161,
      "outputs": [
        {
          "output_type": "execute_result",
          "data": {
            "text/plain": [
              "tensor([[[1, 0],\n",
              "         [0, 6],\n",
              "         [0, 3]],\n",
              "\n",
              "        [[3, 0],\n",
              "         [4, 0],\n",
              "         [0, 5]]], dtype=torch.int32)"
            ]
          },
          "metadata": {
            "tags": []
          },
          "execution_count": 161
        }
      ]
    },
    {
      "cell_type": "code",
      "metadata": {
        "id": "FHdtP8igYWq2",
        "colab_type": "code",
        "outputId": "728d36a8-16e5-42d1-d247-63691d829e83",
        "colab": {
          "base_uri": "https://localhost:8080/",
          "height": 108
        }
      },
      "source": [
        "t.reshape(2,3,2).max(dim=0)"
      ],
      "execution_count": 162,
      "outputs": [
        {
          "output_type": "execute_result",
          "data": {
            "text/plain": [
              "torch.return_types.max(values=tensor([[3, 0],\n",
              "        [4, 6],\n",
              "        [0, 5]], dtype=torch.int32), indices=tensor([[1, 1],\n",
              "        [1, 0],\n",
              "        [1, 1]]))"
            ]
          },
          "metadata": {
            "tags": []
          },
          "execution_count": 162
        }
      ]
    },
    {
      "cell_type": "markdown",
      "metadata": {
        "id": "WBluTnfI1PdJ",
        "colab_type": "text"
      },
      "source": [
        "# Matrix operations"
      ]
    },
    {
      "cell_type": "code",
      "metadata": {
        "id": "6MUOWbcK1R5Q",
        "colab_type": "code",
        "colab": {}
      },
      "source": [
        "in_features = torch.tensor([1,2,3,4], dtype = torch.float32)"
      ],
      "execution_count": 0,
      "outputs": []
    },
    {
      "cell_type": "code",
      "metadata": {
        "id": "bmEp0zSB1biK",
        "colab_type": "code",
        "colab": {}
      },
      "source": [
        "weight_matrix = torch.tensor([\n",
        "                              [1,2,3,4],\n",
        "                              [2,3,4,5],\n",
        "                              [3,4,5,6],\n",
        "                              [4,5,6,7],\n",
        "                              [5,6,7,8]\n",
        "                              ], dtype = torch.float32)"
      ],
      "execution_count": 0,
      "outputs": []
    },
    {
      "cell_type": "code",
      "metadata": {
        "id": "FCPHG7yo1pgG",
        "colab_type": "code",
        "outputId": "868beb6f-8490-48f7-ecf9-c315cf0af9f4",
        "colab": {
          "base_uri": "https://localhost:8080/",
          "height": 35
        }
      },
      "source": [
        "weight_matrix.matmul(in_features)   "
      ],
      "execution_count": 165,
      "outputs": [
        {
          "output_type": "execute_result",
          "data": {
            "text/plain": [
              "tensor([30., 40., 50., 60., 70.])"
            ]
          },
          "metadata": {
            "tags": []
          },
          "execution_count": 165
        }
      ]
    },
    {
      "cell_type": "code",
      "metadata": {
        "id": "j3YbVgN8sNSO",
        "colab_type": "code",
        "colab": {
          "base_uri": "https://localhost:8080/",
          "height": 35
        },
        "outputId": "0917e4ed-68d9-4d80-d3ca-c6b53d4178cf"
      },
      "source": [
        "# explicitly setting the weight matrix of a Linear layer\n",
        "import torch.nn as nn\n",
        "\n",
        "fc = nn.Linear(in_features=4, out_features=5, bias = False)\n",
        "fc.weight = nn.Parameter(weight_matrix)\n",
        "fc(in_features)"
      ],
      "execution_count": 166,
      "outputs": [
        {
          "output_type": "execute_result",
          "data": {
            "text/plain": [
              "tensor([30., 40., 50., 60., 70.], grad_fn=<SqueezeBackward3>)"
            ]
          },
          "metadata": {
            "tags": []
          },
          "execution_count": 166
        }
      ]
    },
    {
      "cell_type": "markdown",
      "metadata": {
        "id": "L1tFAxpywkGd",
        "colab_type": "text"
      },
      "source": [
        "y = Ax + b\n",
        "\n",
        "output = Weight Matrix * Input + bias\n",
        "\n",
        "[M x Z] = [M x N]*[N x Z] + [M x Z]\n"
      ]
    },
    {
      "cell_type": "markdown",
      "metadata": {
        "id": "lPF9F6eRZin7",
        "colab_type": "text"
      },
      "source": [
        "# Misc Tensor Operations"
      ]
    },
    {
      "cell_type": "code",
      "metadata": {
        "id": "ui-6HmqqZkza",
        "colab_type": "code",
        "colab": {}
      },
      "source": [
        "# Tensor Concatenations\n",
        "\n",
        "t1 = torch.tensor([], dtype=torch.int32)\n",
        "t2 = torch.tensor([1,2,3,4], dtype=torch.int32)"
      ],
      "execution_count": 0,
      "outputs": []
    },
    {
      "cell_type": "code",
      "metadata": {
        "id": "uuLfjvzbZwEQ",
        "colab_type": "code",
        "colab": {
          "base_uri": "https://localhost:8080/",
          "height": 35
        },
        "outputId": "a331f210-335f-494c-af7c-ed526fda3df9"
      },
      "source": [
        "t1"
      ],
      "execution_count": 168,
      "outputs": [
        {
          "output_type": "execute_result",
          "data": {
            "text/plain": [
              "tensor([])"
            ]
          },
          "metadata": {
            "tags": []
          },
          "execution_count": 168
        }
      ]
    },
    {
      "cell_type": "code",
      "metadata": {
        "id": "i28C8DFqZx5O",
        "colab_type": "code",
        "colab": {
          "base_uri": "https://localhost:8080/",
          "height": 35
        },
        "outputId": "64559ad1-3921-408e-d57a-152e659944d5"
      },
      "source": [
        "t2"
      ],
      "execution_count": 169,
      "outputs": [
        {
          "output_type": "execute_result",
          "data": {
            "text/plain": [
              "tensor([1, 2, 3, 4], dtype=torch.int32)"
            ]
          },
          "metadata": {
            "tags": []
          },
          "execution_count": 169
        }
      ]
    },
    {
      "cell_type": "code",
      "metadata": {
        "id": "lszMdHgCZzE4",
        "colab_type": "code",
        "colab": {
          "base_uri": "https://localhost:8080/",
          "height": 171
        },
        "outputId": "a9851fb7-a423-4592-8bd0-f392b50d81ec"
      },
      "source": [
        "torch.cat((t1, t2), dim=0)"
      ],
      "execution_count": 170,
      "outputs": [
        {
          "output_type": "error",
          "ename": "RuntimeError",
          "evalue": "ignored",
          "traceback": [
            "\u001b[0;31m---------------------------------------------------------------------------\u001b[0m",
            "\u001b[0;31mRuntimeError\u001b[0m                              Traceback (most recent call last)",
            "\u001b[0;32m<ipython-input-170-43c21d061170>\u001b[0m in \u001b[0;36m<module>\u001b[0;34m()\u001b[0m\n\u001b[0;32m----> 1\u001b[0;31m \u001b[0mtorch\u001b[0m\u001b[0;34m.\u001b[0m\u001b[0mcat\u001b[0m\u001b[0;34m(\u001b[0m\u001b[0;34m(\u001b[0m\u001b[0mt1\u001b[0m\u001b[0;34m,\u001b[0m \u001b[0mt2\u001b[0m\u001b[0;34m)\u001b[0m\u001b[0;34m,\u001b[0m \u001b[0mdim\u001b[0m\u001b[0;34m=\u001b[0m\u001b[0;36m0\u001b[0m\u001b[0;34m)\u001b[0m\u001b[0;34m\u001b[0m\u001b[0;34m\u001b[0m\u001b[0m\n\u001b[0m",
            "\u001b[0;31mRuntimeError\u001b[0m: Expected object of scalar type Float but got scalar type Int for sequence element 1 in sequence argument at position #1 'tensors'"
          ]
        }
      ]
    },
    {
      "cell_type": "code",
      "metadata": {
        "id": "shF1vomcZ_0_",
        "colab_type": "code",
        "colab": {}
      },
      "source": [
        "# Following code will fail because cat only works with equal shape tensors. tensor[2,3] can't fit into tensor[0]\n",
        "# Use torch.stack to create a new axis and cat to that\n",
        "# torch.cat((t1.unsqueeze(dim=0), torch.tensor([[1,2,3],[4,5,6]], dtype = torch.float32)), dim = 1)"
      ],
      "execution_count": 0,
      "outputs": []
    },
    {
      "cell_type": "code",
      "metadata": {
        "id": "pj8Fb8joaE-U",
        "colab_type": "code",
        "colab": {}
      },
      "source": [
        "# torch.tensor([[1,2,3],[4,5,6]], dtype = torch.float32).shape\n",
        "t1.shape"
      ],
      "execution_count": 0,
      "outputs": []
    },
    {
      "cell_type": "code",
      "metadata": {
        "id": "RaX7D6TnrZ-T",
        "colab_type": "code",
        "colab": {}
      },
      "source": [
        "# Cat on a new axis i.e. do stack manually\n",
        "t2"
      ],
      "execution_count": 0,
      "outputs": []
    },
    {
      "cell_type": "code",
      "metadata": {
        "id": "OX-l0ixWrlrf",
        "colab_type": "code",
        "colab": {}
      },
      "source": [
        "t2.unsqueeze(dim=0)"
      ],
      "execution_count": 0,
      "outputs": []
    },
    {
      "cell_type": "code",
      "metadata": {
        "id": "mKHzVWh9rod6",
        "colab_type": "code",
        "colab": {}
      },
      "source": [
        "t2.unsqueeze(dim=1)"
      ],
      "execution_count": 0,
      "outputs": []
    },
    {
      "cell_type": "code",
      "metadata": {
        "id": "IXwMhp4Trqgn",
        "colab_type": "code",
        "colab": {}
      },
      "source": [
        "t3 = torch.tensor([3,3,3,3], dtype=torch.int32)\n",
        "t4 = t3+1"
      ],
      "execution_count": 0,
      "outputs": []
    },
    {
      "cell_type": "code",
      "metadata": {
        "id": "yvBhWQc6slDf",
        "colab_type": "code",
        "colab": {
          "base_uri": "https://localhost:8080/",
          "height": 35
        },
        "outputId": "33347ba8-54f5-49c7-b55f-ec4b76df3f37"
      },
      "source": [
        "torch.cat((t1,t2), dim=0)"
      ],
      "execution_count": 172,
      "outputs": [
        {
          "output_type": "execute_result",
          "data": {
            "text/plain": [
              "tensor([1, 2, 3, 4], dtype=torch.int32)"
            ]
          },
          "metadata": {
            "tags": []
          },
          "execution_count": 172
        }
      ]
    },
    {
      "cell_type": "code",
      "metadata": {
        "id": "B-aAudP-tAjI",
        "colab_type": "code",
        "colab": {
          "base_uri": "https://localhost:8080/",
          "height": 171
        },
        "outputId": "424d6c61-da2a-4722-dcc5-68cadf67b497"
      },
      "source": [
        "torch.cat((t2.reshape(1,4),t3), dim=0)"
      ],
      "execution_count": 188,
      "outputs": [
        {
          "output_type": "error",
          "ename": "RuntimeError",
          "evalue": "ignored",
          "traceback": [
            "\u001b[0;31m---------------------------------------------------------------------------\u001b[0m",
            "\u001b[0;31mRuntimeError\u001b[0m                              Traceback (most recent call last)",
            "\u001b[0;32m<ipython-input-188-5c78409a1fc1>\u001b[0m in \u001b[0;36m<module>\u001b[0;34m()\u001b[0m\n\u001b[0;32m----> 1\u001b[0;31m \u001b[0mtorch\u001b[0m\u001b[0;34m.\u001b[0m\u001b[0mcat\u001b[0m\u001b[0;34m(\u001b[0m\u001b[0;34m(\u001b[0m\u001b[0mt2\u001b[0m\u001b[0;34m.\u001b[0m\u001b[0mreshape\u001b[0m\u001b[0;34m(\u001b[0m\u001b[0;36m1\u001b[0m\u001b[0;34m,\u001b[0m\u001b[0;36m4\u001b[0m\u001b[0;34m)\u001b[0m\u001b[0;34m,\u001b[0m\u001b[0mt3\u001b[0m\u001b[0;34m)\u001b[0m\u001b[0;34m,\u001b[0m \u001b[0mdim\u001b[0m\u001b[0;34m=\u001b[0m\u001b[0;36m0\u001b[0m\u001b[0;34m)\u001b[0m\u001b[0;34m\u001b[0m\u001b[0;34m\u001b[0m\u001b[0m\n\u001b[0m",
            "\u001b[0;31mRuntimeError\u001b[0m: Expected object of scalar type Int but got scalar type Long for sequence element 1 in sequence argument at position #1 'tensors'"
          ]
        }
      ]
    },
    {
      "cell_type": "code",
      "metadata": {
        "id": "FkdmhNGMtjcs",
        "colab_type": "code",
        "colab": {
          "base_uri": "https://localhost:8080/",
          "height": 35
        },
        "outputId": "5bef56ba-0f63-4550-c07f-bed7f80b6f31"
      },
      "source": [
        "t2.shape"
      ],
      "execution_count": 186,
      "outputs": [
        {
          "output_type": "execute_result",
          "data": {
            "text/plain": [
              "torch.Size([4])"
            ]
          },
          "metadata": {
            "tags": []
          },
          "execution_count": 186
        }
      ]
    }
  ]
}