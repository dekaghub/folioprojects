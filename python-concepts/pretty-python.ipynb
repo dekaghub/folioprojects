{
  "nbformat": 4,
  "nbformat_minor": 0,
  "metadata": {
    "colab": {
      "name": "pretty-python.ipynb",
      "provenance": [],
      "collapsed_sections": []
    },
    "kernelspec": {
      "name": "python3",
      "display_name": "Python 3"
    }
  },
  "cells": [
    {
      "cell_type": "code",
      "metadata": {
        "id": "1ShFIU0m9H96",
        "colab_type": "code",
        "colab": {}
      },
      "source": [
        "# Borrowed from Raymond Hettinger's talk\n",
        "# https://www.youtube.com/watch?v=OSGv2VnC0go\n"
      ],
      "execution_count": 0,
      "outputs": []
    },
    {
      "cell_type": "markdown",
      "metadata": {
        "id": "MyoXIbNN9TCi",
        "colab_type": "text"
      },
      "source": [
        "# List and its Properties\n",
        "\n",
        "* Every list is iterable"
      ]
    },
    {
      "cell_type": "code",
      "metadata": {
        "id": "OozjcFwA9fMj",
        "colab_type": "code",
        "outputId": "c5f68d88-1754-4cd4-ef19-6d3731992871",
        "colab": {
          "base_uri": "https://localhost:8080/",
          "height": 217
        }
      },
      "source": [
        "## simple reverse iteration of for loop\n",
        "colors = ['red', 'green', 'blue', 'yellow']\n",
        "\n",
        "for color in reversed(colors):\n",
        "    print(color)\n",
        "\n",
        "# keep track of indices \n",
        "for i, color in enumerate(colors):\n",
        "    print(i, '-->', color)\n",
        "\n",
        "# print multiple lists together\n",
        "names = ['Jon', 'Kate', 'Defie']\n",
        "foods = ['cheese', 'sauce', 'chips', 'guac']\n",
        "\n",
        "# behaves like an inner join i.e. smallest of all the lists\n",
        "for name, color, food in zip(names, colors, foods):\n",
        "    print(name, ' - ', color, ' - ', food)"
      ],
      "execution_count": 0,
      "outputs": [
        {
          "output_type": "stream",
          "text": [
            "yellow\n",
            "blue\n",
            "green\n",
            "red\n",
            "0 --> red\n",
            "1 --> green\n",
            "2 --> blue\n",
            "3 --> yellow\n",
            "Jon  -  red  -  cheese\n",
            "Kate  -  green  -  sauce\n",
            "Defie  -  blue  -  chips\n"
          ],
          "name": "stdout"
        }
      ]
    },
    {
      "cell_type": "markdown",
      "metadata": {
        "id": "N9LpZn2X9uSj",
        "colab_type": "text"
      },
      "source": [
        "# Simple Find Function \n"
      ]
    },
    {
      "cell_type": "code",
      "metadata": {
        "id": "nfRjoVsi91VC",
        "colab_type": "code",
        "outputId": "06e48e4c-b3f8-4381-cfb3-2950303f12a3",
        "colab": {
          "base_uri": "https://localhost:8080/",
          "height": 53
        }
      },
      "source": [
        "# general find function\n",
        "def find(seq, target):\n",
        "    for i, value in enumerate(seq):\n",
        "        if value == target:\n",
        "            break\n",
        "    else:\n",
        "        return -1\n",
        "    return i\n",
        "\n",
        "print(find(colors, 'purple'))\n",
        "print(find(colors, 'yellow'))"
      ],
      "execution_count": 0,
      "outputs": [
        {
          "output_type": "stream",
          "text": [
            "-1\n",
            "3\n"
          ],
          "name": "stdout"
        }
      ]
    },
    {
      "cell_type": "markdown",
      "metadata": {
        "id": "KZ2BskWv-BcO",
        "colab_type": "text"
      },
      "source": [
        ""
      ]
    },
    {
      "cell_type": "markdown",
      "metadata": {
        "id": "Ae7ebjxK-JRk",
        "colab_type": "text"
      },
      "source": [
        "# Lambda Function"
      ]
    },
    {
      "cell_type": "code",
      "metadata": {
        "id": "ySh-YIkL-QX8",
        "colab_type": "code",
        "outputId": "d866129e-cfac-4d08-b075-faf239cfaeba",
        "colab": {
          "base_uri": "https://localhost:8080/",
          "height": 35
        }
      },
      "source": [
        "g = lambda x: x**2\n",
        "print(g(2))"
      ],
      "execution_count": 0,
      "outputs": [
        {
          "output_type": "stream",
          "text": [
            "4\n"
          ],
          "name": "stdout"
        }
      ]
    },
    {
      "cell_type": "markdown",
      "metadata": {
        "colab_type": "text",
        "id": "qs94UnJ3-peK"
      },
      "source": [
        "# Good Habits of Writing Code"
      ]
    },
    {
      "cell_type": "markdown",
      "metadata": {
        "id": "crMI4GciExhs",
        "colab_type": "text"
      },
      "source": [
        "Function Calls + Returns\n",
        "* Be Explicit with function calls for good readability\n",
        "* Name the parameters to avoid bouncy reading"
      ]
    },
    {
      "cell_type": "code",
      "metadata": {
        "colab_type": "code",
        "id": "Uxl_njFo-pdw",
        "outputId": "8860372c-f034-4f0d-93a2-49ff457aa6e1",
        "colab": {
          "base_uri": "https://localhost:8080/",
          "height": 90
        }
      },
      "source": [
        "def favoriteFood(name, food):\n",
        "    favorite = name + ' ' + food\n",
        "    return favorite\n",
        "\n",
        "import random\n",
        "print(favoriteFood(name = names[random.randint(0, len(names)-1)], food = foods[random.randint(0,len(foods)-1)]))"
      ],
      "execution_count": 0,
      "outputs": [
        {
          "output_type": "stream",
          "text": [
            "Jon chips\n",
            "testResult(a='first', b='second')\n",
            "a :  1  b :  2  c :  3\n",
            "a :  5  b :  6  c :  7\n"
          ],
          "name": "stdout"
        }
      ]
    },
    {
      "cell_type": "markdown",
      "metadata": {
        "id": "AvFd86AWFFuv",
        "colab_type": "text"
      },
      "source": [
        " Use named tuples for displaying returns of tuples\n"
      ]
    },
    {
      "cell_type": "code",
      "metadata": {
        "id": "MpXlqpDlFJXS",
        "colab_type": "code",
        "colab": {
          "base_uri": "https://localhost:8080/",
          "height": 35
        },
        "outputId": "5a748335-b1aa-4933-bb69-ba7edc82bf8e"
      },
      "source": [
        "import collections\n",
        "\n",
        "def test(a,b):\n",
        "  tupleResult = collections.namedtuple('testResult', ['a','b'])\n",
        "  testResult = tupleResult(a,b)\n",
        "\n",
        "  return testResult\n",
        "\n",
        "t = test(a='first', b='second')\n",
        "print(t)"
      ],
      "execution_count": 1,
      "outputs": [
        {
          "output_type": "stream",
          "text": [
            "testResult(a='first', b='second')\n"
          ],
          "name": "stdout"
        }
      ]
    },
    {
      "cell_type": "markdown",
      "metadata": {
        "id": "f2vvDed3FWcN",
        "colab_type": "text"
      },
      "source": [
        "\n",
        "One Line variable inits\n"
      ]
    },
    {
      "cell_type": "code",
      "metadata": {
        "id": "CHQAiHkdFJK_",
        "colab_type": "code",
        "colab": {}
      },
      "source": [
        "a,b,c, = 1,2,3\n",
        "print('a : ', a,' b : ', b, ' c : ', c)\n",
        "x = [5,6,7]\n",
        "a,b,c = x\n",
        "print('a : ', a,' b : ', b, ' c : ', c)"
      ],
      "execution_count": 0,
      "outputs": []
    },
    {
      "cell_type": "markdown",
      "metadata": {
        "id": "KDi0Ihy1DiqI",
        "colab_type": "text"
      },
      "source": [
        "String Operations\n",
        "\n",
        "* '+' operator is resource intensive\n",
        "* use .join() for efficiency"
      ]
    },
    {
      "cell_type": "code",
      "metadata": {
        "id": "eiSFLje3EdL6",
        "colab_type": "code",
        "colab": {}
      },
      "source": [
        "# Concatenate strings in linear time\n",
        "# Avoid quadratic time with + operator\n",
        "words = ['Combine','this','into','a','sentence']\n",
        "s = ' '.join(words)\n",
        "print(s)\n",
        "\n",
        "s = words[1].join(' ').join(words[4]) # cool single space transform\n",
        "print(s)"
      ],
      "execution_count": 0,
      "outputs": []
    },
    {
      "cell_type": "markdown",
      "metadata": {
        "id": "VzfWG-TbEiGb",
        "colab_type": "text"
      },
      "source": [
        "Decorators\n",
        "* Use decorators to differentiate code\n",
        "* Better readability"
      ]
    },
    {
      "cell_type": "code",
      "metadata": {
        "id": "t91jJsRJEsep",
        "colab_type": "code",
        "colab": {}
      },
      "source": [
        "# Use decorators to differentiate Library/User code\n",
        "def admincode(func):\n",
        "    s = [1,2,3]\n",
        "    def wrapper(a):\n",
        "        print('This is admin level.')\n",
        "        func(a)\n",
        "    return wrapper\n",
        "\n",
        "@admincode\n",
        "def usercode(a):\n",
        "    print('this is ', a)\n",
        "\n",
        "usercode('test')"
      ],
      "execution_count": 0,
      "outputs": []
    }
  ]
}