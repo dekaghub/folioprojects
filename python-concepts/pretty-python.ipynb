{
  "nbformat": 4,
  "nbformat_minor": 0,
  "metadata": {
    "colab": {
      "name": "pretty-python.ipynb",
      "provenance": [],
      "collapsed_sections": []
    },
    "kernelspec": {
      "name": "python3",
      "display_name": "Python 3"
    }
  },
  "cells": [
    {
      "cell_type": "code",
      "execution_count": 0,
      "metadata": {
        "colab": {},
        "colab_type": "code",
        "id": "1ShFIU0m9H96"
      },
      "outputs": [],
      "source": [
        "# Borrowed from Raymond Hettinger's talk\n",
        "# https://www.youtube.com/watch?v=OSGv2VnC0go\n"
      ]
    },
    {
      "cell_type": "markdown",
      "metadata": {
        "colab_type": "text",
        "id": "MyoXIbNN9TCi"
      },
      "source": [
        "# List and List Properties\n",
        "\n",
        "* Every list is iterable"
      ]
    },
    {
      "cell_type": "code",
      "execution_count": 3,
      "metadata": {},
      "outputs": [
        {
          "name": "stdout",
          "output_type": "stream",
          "text": "Reverse Order Print\nyellow\nblue\ngreen\nred\n\nReverse Order Element Wise\nn\ne\ne\nr\ng\n\nTracking Indices\n0 --> red\n1 --> green\n2 --> blue\n3 --> yellow\n\nMultiple List Print\nJon  -  red  -  cheese\nKate  -  green  -  sauce\nDefie  -  blue  -  chips\n"
        }
      ],
      "source": [
        "## simple reverse iteration of for loop\n",
        "colors = ['red', 'green', 'blue', 'yellow']\n",
        "\n",
        "print('Reverse Order Print')\n",
        "for color in reversed(colors):\n",
        "    print(color)\n",
        "\n",
        "## Alternate reverse order using range\n",
        "print('\\nReverse Order Element Wise')\n",
        "for i in range(len(colors[1])-1, -1, -1):\n",
        "    print(colors[1][i])\n",
        "\n",
        "# keep track of indices \n",
        "print('\\nTracking Indices')\n",
        "for i, color in enumerate(colors):\n",
        "    print(i, '-->', color)\n",
        "\n",
        "# print multiple lists together\n",
        "names = ['Jon', 'Kate', 'Defie']\n",
        "foods = ['cheese', 'sauce', 'chips', 'guac']\n",
        "\n",
        "# behaves like an inner join i.e. smallest of all the lists\n",
        "print('\\nMultiple List Print')\n",
        "for name, color, food in zip(names, colors, foods):\n",
        "    print(name, ' - ', color, ' - ', food)"
      ]
    },
    {
      "cell_type": "markdown",
      "metadata": {
        "colab_type": "text",
        "id": "N9LpZn2X9uSj"
      },
      "source": [
        "# Simple Find Function \n"
      ]
    },
    {
      "cell_type": "code",
      "execution_count": 0,
      "metadata": {
        "colab": {
          "base_uri": "https://localhost:8080/",
          "height": 53
        },
        "colab_type": "code",
        "id": "nfRjoVsi91VC",
        "outputId": "06e48e4c-b3f8-4381-cfb3-2950303f12a3"
      },
      "outputs": [
        {
          "name": "stdout",
          "output_type": "stream",
          "text": [
            "-1\n",
            "3\n"
          ]
        }
      ],
      "source": [
        "# general find function\n",
        "def find(seq, target):\n",
        "    for i, value in enumerate(seq):\n",
        "        if value == target:\n",
        "            break\n",
        "    else:\n",
        "        return -1\n",
        "    return i\n",
        "\n",
        "print(find(colors, 'purple'))\n",
        "print(find(colors, 'yellow'))"
      ]
    },
    {
      "cell_type": "markdown",
      "metadata": {
        "colab_type": "text",
        "id": "KZ2BskWv-BcO"
      },
      "source": [
        ""
      ]
    },
    {
      "cell_type": "markdown",
      "metadata": {
        "colab_type": "text",
        "id": "Ae7ebjxK-JRk"
      },
      "source": [
        "# Lambda Function"
      ]
    },
    {
      "cell_type": "code",
      "execution_count": 0,
      "metadata": {
        "colab": {
          "base_uri": "https://localhost:8080/",
          "height": 35
        },
        "colab_type": "code",
        "id": "ySh-YIkL-QX8",
        "outputId": "d866129e-cfac-4d08-b075-faf239cfaeba"
      },
      "outputs": [
        {
          "name": "stdout",
          "output_type": "stream",
          "text": [
            "4\n"
          ]
        }
      ],
      "source": [
        "g = lambda x: x**2\n",
        "print(g(2))"
      ]
    },
    {
      "cell_type": "markdown",
      "metadata": {
        "colab_type": "text",
        "id": "qs94UnJ3-peK"
      },
      "source": [
        "# Better Code Practices"
      ]
    },
    {
      "cell_type": "markdown",
      "metadata": {
        "colab_type": "text",
        "id": "crMI4GciExhs"
      },
      "source": [
        "Function Calls + Returns\n",
        "* Be Explicit with function calls for good readability\n",
        "* Name the parameters to avoid bouncy reading"
      ]
    },
    {
      "cell_type": "code",
      "execution_count": 0,
      "metadata": {
        "colab": {
          "base_uri": "https://localhost:8080/",
          "height": 90
        },
        "colab_type": "code",
        "id": "Uxl_njFo-pdw",
        "outputId": "8860372c-f034-4f0d-93a2-49ff457aa6e1"
      },
      "outputs": [
        {
          "name": "stdout",
          "output_type": "stream",
          "text": [
            "Jon chips\n",
            "testResult(a='first', b='second')\n",
            "a :  1  b :  2  c :  3\n",
            "a :  5  b :  6  c :  7\n"
          ]
        }
      ],
      "source": [
        "def favoriteFood(name, food):\n",
        "    favorite = name + ' ' + food\n",
        "    return favorite\n",
        "\n",
        "import random\n",
        "print(favoriteFood(name = names[random.randint(0, len(names)-1)], food = foods[random.randint(0,len(foods)-1)]))"
      ]
    },
    {
      "cell_type": "markdown",
      "metadata": {
        "colab_type": "text",
        "id": "AvFd86AWFFuv"
      },
      "source": [
        " Use named tuples for displaying returns of tuples\n"
      ]
    },
    {
      "cell_type": "code",
      "execution_count": 1,
      "metadata": {
        "colab": {
          "base_uri": "https://localhost:8080/",
          "height": 35
        },
        "colab_type": "code",
        "id": "MpXlqpDlFJXS",
        "outputId": "5a748335-b1aa-4933-bb69-ba7edc82bf8e"
      },
      "outputs": [
        {
          "name": "stdout",
          "output_type": "stream",
          "text": [
            "testResult(a='first', b='second')\n"
          ]
        }
      ],
      "source": [
        "import collections\n",
        "\n",
        "def test(a,b):\n",
        "  tupleResult = collections.namedtuple('testResult', ['a','b'])\n",
        "  testResult = tupleResult(a,b)\n",
        "\n",
        "  return testResult\n",
        "\n",
        "t = test(a='first', b='second')\n",
        "print(t)"
      ]
    },
    {
      "cell_type": "markdown",
      "metadata": {
        "colab_type": "text",
        "id": "f2vvDed3FWcN"
      },
      "source": [
        "\n",
        "One Line variable inits\n"
      ]
    },
    {
      "cell_type": "code",
      "execution_count": 0,
      "metadata": {
        "colab": {},
        "colab_type": "code",
        "id": "CHQAiHkdFJK_"
      },
      "outputs": [],
      "source": [
        "a,b,c, = 1,2,3\n",
        "print('a : ', a,' b : ', b, ' c : ', c)\n",
        "x = [5,6,7]\n",
        "a,b,c = x\n",
        "print('a : ', a,' b : ', b, ' c : ', c)"
      ]
    },
    {
      "cell_type": "markdown",
      "metadata": {
        "colab_type": "text",
        "id": "KDi0Ihy1DiqI"
      },
      "source": [
        "String Operations\n",
        "\n",
        "* '+' operator is resource intensive\n",
        "* use .join() for efficiency"
      ]
    },
    {
      "cell_type": "code",
      "execution_count": 0,
      "metadata": {
        "colab": {},
        "colab_type": "code",
        "id": "eiSFLje3EdL6"
      },
      "outputs": [],
      "source": [
        "# Concatenate strings in linear time\n",
        "# Avoid quadratic time with + operator\n",
        "words = ['Combine','this','into','a','sentence']\n",
        "s = ' '.join(words)\n",
        "print(s)\n",
        "\n",
        "s = words[1].join(' ').join(words[4]) # cool single space transform\n",
        "print(s)"
      ]
    },
    {
      "cell_type": "markdown",
      "metadata": {
        "colab_type": "text",
        "id": "VzfWG-TbEiGb"
      },
      "source": [
        "Decorators\n",
        "* Use decorators to differentiate code\n",
        "* Better readability"
      ]
    },
    {
      "cell_type": "code",
      "execution_count": 0,
      "metadata": {
        "colab": {},
        "colab_type": "code",
        "id": "t91jJsRJEsep"
      },
      "outputs": [],
      "source": [
        "# Use decorators to differentiate Library/User code\n",
        "def admincode(func):\n",
        "    s = [1,2,3]\n",
        "    def wrapper(a):\n",
        "        print('This is admin level.')\n",
        "        func(a)\n",
        "    return wrapper\n",
        "\n",
        "@admincode\n",
        "def usercode(a):\n",
        "    print('this is ', a)\n",
        "\n",
        "usercode('test')"
      ]
    }
  ]
}