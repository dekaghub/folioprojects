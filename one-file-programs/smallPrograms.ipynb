{
  "nbformat": 4,
  "nbformat_minor": 0,
  "metadata": {
    "colab": {
      "name": "smallPrograms.ipynb",
      "provenance": [],
      "collapsed_sections": []
    },
    "kernelspec": {
      "name": "python3",
      "display_name": "Python 3"
    }
  },
  "cells": [
    {
      "cell_type": "markdown",
      "metadata": {
        "id": "Dn_5uN33T9lN",
        "colab_type": "text"
      },
      "source": [
        "# Collection of Concepts & Implementation\n",
        "\n",
        "### Two Sum Problem\n",
        "\n",
        "* Return indices of elements from a single list that satisfies the target sum \n",
        "* Input : List/Array of numbers, target sum\n",
        "* Output : Pair of indices\n",
        "\n",
        "> Credits to LeetCode. Use dictionary (or hash maps) to solve in linear time"
      ]
    },
    {
      "cell_type": "code",
      "metadata": {
        "id": "pZ3gQlkaUq7r",
        "colab_type": "code",
        "colab": {
          "base_uri": "https://localhost:8080/",
          "height": 35
        },
        "outputId": "8343e26f-33ab-4f28-ba11-70e25c36f263"
      },
      "source": [
        "# sample input\n",
        "nums = [2,5,3,5,8,9,4,6]\n",
        "target = 14\n",
        "\n",
        "def TwoSum(numbers, target):\n",
        "  if numbers:\n",
        "    dict = {}\n",
        "\n",
        "    for i in range(len(numbers)):\n",
        "      if target-numbers[i] not in dict:\n",
        "        dict[numbers[i]] = i\n",
        "      else:\n",
        "        return [dict[target - numbers[i]], i]\n",
        "\n",
        "TwoSum(nums, target)"
      ],
      "execution_count": 3,
      "outputs": [
        {
          "output_type": "execute_result",
          "data": {
            "text/plain": [
              "[3, 5]"
            ]
          },
          "metadata": {
            "tags": []
          },
          "execution_count": 3
        }
      ]
    }
  ]
}